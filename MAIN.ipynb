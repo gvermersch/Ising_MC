{
 "cells": [
  {
   "cell_type": "code",
   "execution_count": 1,
   "id": "4183ed62",
   "metadata": {},
   "outputs": [],
   "source": [
    "import numpy as np\n",
    "import matplotlib.pyplot as plt\n",
    "from PIL import Image, ImageOps\n",
    "from FUN import * # Fichier de fonctions"
   ]
  },
  {
   "cell_type": "markdown",
   "id": "c3971c3c",
   "metadata": {},
   "source": [
    "# Fonctions"
   ]
  },
  {
   "cell_type": "code",
   "execution_count": null,
   "id": "f0797af7",
   "metadata": {},
   "outputs": [],
   "source": [
    "def load_image(filename):\n",
    "    \"\"\"\n",
    "    Importation de l'image, passage en nuance de gris, puis passage dans [0,1]\n",
    "    \"\"\"\n",
    "    my_img = Image.open(filename)\n",
    "    img_gray = ImageOps.grayscale(my_img)\n",
    "    img_gray = np.array(img_gray)\n",
    "    img_gray_binary = np.where(img_gray > 0.5, 1, 0) #Passage en binaire\n",
    "    return img_gray_binary\n"
   ]
  },
  {
   "cell_type": "code",
   "execution_count": null,
   "id": "e75dc0a6",
   "metadata": {},
   "outputs": [],
   "source": [
    "def tograyscale(mat):\n",
    "    \"\"\"\n",
    "    Scale les nombres de la matrice dans [0,255] (pour permettre les images en nuance de gris)\n",
    "    Mais ne prend pas encore en compte le négatif\n",
    "    \"\"\"\n",
    "    scaled_mat = 255.0*mat/mat.max()\n",
    "    return scaled_mat"
   ]
  },
  {
   "cell_type": "code",
   "execution_count": null,
   "id": "c6b08681",
   "metadata": {},
   "outputs": [],
   "source": [
    "def noise(img, TAU, MU):\n",
    "    \"\"\"\n",
    "    Ajout d'un bruit gaussien aux pixels de l'image\n",
    "    \"\"\"\n",
    "    img_noised = np.zeros(shape = img.shape)\n",
    "    row, col = np.shape(img)\n",
    "    for i in range(row):\n",
    "        for j in range(col):\n",
    "            # ATTENTION: scale c'est l'écart type \n",
    "            img_noised[i,j] = np.random.normal(loc = MU[int(img[i,j])], scale = TAU)\n",
    "    \n",
    "    return img_noised"
   ]
  },
  {
   "cell_type": "code",
   "execution_count": null,
   "id": "84464867",
   "metadata": {},
   "outputs": [],
   "source": [
    "def create_noised_image(img, name, TAU, MU = [0,1]):\n",
    "    \"\"\"\n",
    "    img = chemin vers l'image à bruiter\n",
    "    name = suffixe de l'image bruitée enregistrée\n",
    "    TAU = écart-type pour le bruit gaussien\n",
    "    MU = moyenne pour le bruit gaussien MU[0] = 0, MU[1] = 1 par défaut donc bruit centré\n",
    "    \"\"\"\n",
    "    \n",
    "    \n",
    "    img_bin = load_image(img)\n",
    "    img_bin_noised = noise(img_bin, TAU, MU)\n",
    "    plt.imshow(img_bin_noised, cmap = \"gray\")\n",
    "    \n",
    "    tosave = Image.fromarray(tograyscale(img_bin_noised))\n",
    "    tosave.convert(\"L\").save(\"data/\"+str(name)+\"_\"+str(TAU)+\".png\")"
   ]
  },
  {
   "cell_type": "code",
   "execution_count": null,
   "id": "41ca07f0",
   "metadata": {},
   "outputs": [],
   "source": [
    "def sample(i, j, X, Y, maxi, maxj, ALPHA, BETA, TAU, MU):\n",
    "    \"\"\"\n",
    "    Echantillonne dans la distribution conditionnelle selon la formule que j'ai calculée\n",
    "    \"\"\"\n",
    "   \n",
    "    # Ajout des valeurs des 4 voisins du pixel considéré, si pertinent\n",
    "    voisins = []\n",
    "    if i != 0:\n",
    "        voisins.append(X[i-1][j])\n",
    "    if i!= maxi-1:\n",
    "        voisins.append(X[i+1][j])\n",
    "    if j!= 0:\n",
    "        voisins.append(X[i][j-1])\n",
    "    if j!= maxj-1:\n",
    "        voisins.append(X[i][j+1])\n",
    "        \n",
    "    # Calcul du nombre de 0 et de 1 dans les voisins\n",
    "    nb_0 = sum(voisins[i] == 0 for i in range(len(voisins)))\n",
    "    nb_1 = sum(voisins[i] == 1 for i in range(len(voisins)))\n",
    "    \n",
    "    # Prise en considération de la variation du nombre de voisins (bords)\n",
    "    pond = 4/len(voisins) \n",
    "    \n",
    "    # Calcul de la probabilité de valoir 1\n",
    "    exp_valeur_1 = -ALPHA + BETA * pond * (nb_0-nb_1) + 1/(2*(TAU**2))*(MU[1]**2 - MU[0]**2 + 2*Y[i][j]*(MU[0]-MU[1]))\n",
    "    # Calcul de la probabilité de valoir 0 (juste pour vérifier)\n",
    "    exp_valeur_0 = ALPHA + BETA * pond * (nb_1-nb_0) + 1/(2*(TAU**2))*(MU[0]**2 - MU[1]**2 + 2*Y[i][j]*(MU[1]-MU[0]))\n",
    "    \n",
    "    #print(1/(1+np.exp(exp_valeur_1)) + 1/(1+np.exp(exp_valeur_0)))\n",
    "    #print(1/(1+np.exp(exp_valeur_0)))\n",
    "    \n",
    "    prob = 1/(1+np.exp(exp_valeur_1))\n",
    "    \n",
    "    return(int(np.random.rand() < prob)) # Renvoie 1 si l'uniforme est inférieure à la proba de valoir 1"
   ]
  },
  {
   "cell_type": "code",
   "execution_count": null,
   "id": "56041cf6",
   "metadata": {},
   "outputs": [],
   "source": [
    "    def get_posterior(filename, burn_in, samples, ALPHA, BETA, TAU, MU = [0,1]):\n",
    "    \"\"\"\n",
    "    Output les fréquences de valoir 1 pour chaque pixel\n",
    "    Par défaut mu vaut [0,1] donc pas de biais\n",
    "    \"\"\"\n",
    "    Y = load_image(filename) # Chargement de l'image\n",
    "    plt.imshow(Y, cmap = \"gray\") # Affichage de l'image bruitée\n",
    "    plt.show()\n",
    "\n",
    "    posterior = np.zeros(Y.shape)\n",
    "    X = np.random.choice([1,0], size = Y.shape) #Initialisation de la sortie\n",
    "    maxi = Y.shape[0]\n",
    "    maxj = Y.shape[1]\n",
    "    \n",
    "    for step in tqdm(range(burn_in + samples)):\n",
    "        \n",
    "        # Ici on boucle de manière déterministe, idéalement il faudrait le faire de manière aléatoire\n",
    "        for i in range(X.shape[0]):\n",
    "            for j in range(X.shape[1]):\n",
    "                x = sample(i, j, X, Y, maxi, maxj, ALPHA, BETA, TAU, MU)\n",
    "                X[i,j] = x\n",
    "                \n",
    "                if x == 1 and step >= burn_in:\n",
    "                    posterior[i][j] += 1\n",
    "    \n",
    "    # On a ajouté 1 aux pixels à chaque itération réelle où il valait 1\n",
    "    # On fait la moyenne\n",
    "    posterior = posterior / samples\n",
    "\n",
    "    return posterior"
   ]
  },
  {
   "cell_type": "code",
   "execution_count": null,
   "id": "b9a7d85e",
   "metadata": {},
   "outputs": [],
   "source": [
    "def denoise_image(filename, burn_in, samples, ALPHA, BETA, TAU, MU = [0,1]):\n",
    "    \"\"\"\n",
    "    Ici on considère comme 1 valant 1 les pixels où le posterior \n",
    "    vaut 1 à une fréquence supérieure à seuil\n",
    "    mu = [0,1] par défaut donc pas de biais\n",
    "    \"\"\"\n",
    "    \n",
    "    posterior = get_posterior(filename, burn_in, samples, ALPHA, BETA, TAU, MU)\n",
    "    denoised = np.zeros(posterior.shape, dtype=np.float64)\n",
    "    denoised[posterior > 0.5] = 1 # POur passer des probas à des valeurs \n",
    "    \n",
    "    return denoised"
   ]
  },
  {
   "cell_type": "code",
   "execution_count": null,
   "id": "2582aef5",
   "metadata": {},
   "outputs": [],
   "source": []
  },
  {
   "cell_type": "code",
   "execution_count": null,
   "id": "50ccce3a",
   "metadata": {},
   "outputs": [],
   "source": []
  },
  {
   "cell_type": "code",
   "execution_count": null,
   "id": "12a80b81",
   "metadata": {},
   "outputs": [],
   "source": [
    "og_image = Image.open(\"data/poke.png\")\n",
    "plt.imshow(og_image, cmap = \"gray\")\n",
    "og_image.close()"
   ]
  },
  {
   "cell_type": "markdown",
   "id": "7ff1b61e",
   "metadata": {},
   "source": [
    "# Exemple de création d'une image bruitée "
   ]
  },
  {
   "cell_type": "code",
   "execution_count": 2,
   "id": "85593388",
   "metadata": {},
   "outputs": [
    {
     "data": {
      "image/png": "[encoded data removed]",
      "text/plain": [
       "<Figure size 432x288 with 1 Axes>"
      ]
     },
     "metadata": {
      "needs_background": "light"
     },
     "output_type": "display_data"
    }
   ],
   "source": [
    "create_noised_image(\"data/poke.png\", \"bis\", TAU = 0)"
   ]
  },
  {
   "cell_type": "markdown",
   "id": "42683ec8",
   "metadata": {},
   "source": [
    "# Tentative de débruitage"
   ]
  },
  {
   "cell_type": "code",
   "execution_count": null,
   "id": "39bac986",
   "metadata": {},
   "outputs": [],
   "source": [
    "posterior = get_posterior(\"data/poke_noise.png\", 1000, 1000)"
   ]
  },
  {
   "cell_type": "code",
   "execution_count": null,
   "id": "171a4c7b",
   "metadata": {},
   "outputs": [],
   "source": [
    "posterior = get_posterior(\"data/poke_noise_01_0point1.png\", 1000, 1000, ALPHA = 0.2, BETA = 0.2, TAU = 0.1)"
   ]
  },
  {
   "cell_type": "code",
   "execution_count": null,
   "id": "12ddc6ba",
   "metadata": {},
   "outputs": [],
   "source": [
    "plt.imshow(posterior, cmap = \"gray\")"
   ]
  }
 ],
 "metadata": {
  "kernelspec": {
   "display_name": "Python 3",
   "language": "python",
   "name": "python3"
  },
  "language_info": {
   "codemirror_mode": {
    "name": "ipython",
    "version": 3
   },
   "file_extension": ".py",
   "mimetype": "text/x-python",
   "name": "python",
   "nbconvert_exporter": "python",
   "pygments_lexer": "ipython3",
   "version": "3.7.4"
  }
 },
 "nbformat": 4,
 "nbformat_minor": 5
}
