{
 "cells": [
  {
   "cell_type": "code",
   "execution_count": 1,
   "id": "4183ed62",
   "metadata": {},
   "outputs": [],
   "source": [
    "import numpy as np\n",
    "import matplotlib.pyplot as plt\n",
    "from PIL import Image, ImageOps\n",
    "from tqdm import tqdm\n",
    "import random"
   ]
  },
  {
   "cell_type": "markdown",
   "id": "ee8da3dc",
   "metadata": {},
   "source": [
    "# Concernant les couleurs"
   ]
  },
  {
   "cell_type": "code",
   "execution_count": 50,
   "id": "b12b1b15",
   "metadata": {},
   "outputs": [
    {
     "data": {
      "image/png": "[encoded data removed]",
      "text/plain": [
       "<Figure size 432x288 with 4 Axes>"
      ]
     },
     "metadata": {
      "needs_background": "light"
     },
     "output_type": "display_data"
    }
   ],
   "source": [
    "matrix_color = [np.array([[0,1,0],[1,0,1],[0,1,0]]),\n",
    "                np.array([[1,0,1],[0,1,0],[1,0,1]]),\n",
    "                np.array([[0,255,0],[255,0,255],[0,255,0]]),\n",
    "                np.array([[255,0,255],[0,255,0],[255,0,255]])]\n",
    "fig, axs = plt.subplots(2, 2)\n",
    "axs[0,0].imshow(matrix_color[0], cmap = \"gray\") \n",
    "axs[0,1].imshow(matrix_color[1], cmap = \"gray\")\n",
    "axs[1,0].imshow(matrix_color[2], cmap = \"gray\")\n",
    "axs[1,1].imshow(matrix_color[3], cmap = \"gray\")\n",
    "plt.show()"
   ]
  },
  {
   "cell_type": "markdown",
   "id": "2e2f7cd1",
   "metadata": {},
   "source": [
    "**Donc, il semble que**\n",
    "* 0 = noir\n",
    "* 1 (si 0/1) ou 255 (si 0/255) = blanc"
   ]
  },
  {
   "cell_type": "markdown",
   "id": "24ef51b6",
   "metadata": {},
   "source": [
    "# Fonctions"
   ]
  },
  {
   "cell_type": "markdown",
   "id": "c283663b",
   "metadata": {},
   "source": [
    "## Fonctions liées à l'ajout de gris à une image"
   ]
  },
  {
   "cell_type": "code",
   "execution_count": 2,
   "id": "43791c8d",
   "metadata": {},
   "outputs": [],
   "source": [
    "def tograyscale(mat):\n",
    "    \"\"\"\n",
    "    Scale les nombres de la matrice dans [0,255] (pour permettre les images en nuance de gris)\n",
    "    Mais ne prend pas encore en compte le négatif\n",
    "    \"\"\"\n",
    "    scaled_mat = 255.0 * mat / mat.max()\n",
    "    #scaled_mat[scaled_mat<0] = 0 ?\n",
    "    return scaled_mat"
   ]
  },
  {
   "cell_type": "code",
   "execution_count": 3,
   "id": "bf33e14f",
   "metadata": {},
   "outputs": [],
   "source": [
    "def to_binary(filename):\n",
    "    \"\"\"\n",
    "    Importation de l'image, passage en nuance de gris, puis passage dans {0,1}\n",
    "    \"\"\"\n",
    "    my_img = Image.open(filename)\n",
    "    img_gray = ImageOps.grayscale(my_img) # Conversion en nuances de gris\n",
    "    img_gray = np.array(img_gray)\n",
    "    img_gray_binary = np.where(img_gray > 0.5, 1, 0) #Passage en binaire (méthodologie douteuse)\n",
    "    return img_gray_binary\n"
   ]
  },
  {
   "cell_type": "code",
   "execution_count": 4,
   "id": "43e5b151",
   "metadata": {},
   "outputs": [],
   "source": [
    "def noise(img, TAU, MU):\n",
    "    \"\"\"\n",
    "    Ajout d'un bruit gaussien aux pixels de l'image\n",
    "    \"\"\"\n",
    "    img_noised = np.zeros(shape = img.shape)\n",
    "    row, col = np.shape(img)\n",
    "    for i in range(row):\n",
    "        for j in range(col):\n",
    "            # ATTENTION: scale c'est l'écart type et pas la variance !\n",
    "            img_noised[i,j] = np.random.normal(loc = MU[int(img[i,j])], scale = TAU)\n",
    "    \n",
    "    return img_noised"
   ]
  },
  {
   "cell_type": "code",
   "execution_count": 5,
   "id": "fe434c44",
   "metadata": {},
   "outputs": [],
   "source": [
    "def create_noised_image(img, name, TAU, MU = [0,1]):\n",
    "    \"\"\"\n",
    "    img = chemin vers l'image à bruiter\n",
    "    name = suffixe de l'image bruitée enregistrée\n",
    "    TAU = écart-type pour le bruit gaussien\n",
    "    MU = moyenne pour le bruit gaussien MU[0] = 0, MU[1] = 1 par défaut donc bruit centré\n",
    "    Pour faire un autre bruit MU[0] correspond au biais des pixels valant 0 dans l'image d'origine\n",
    "    MU[1] correspond au biais valant 1 dans l'image d'origine\n",
    "    \"\"\"\n",
    "    \n",
    "    img_bin = to_binary(img) # Vu que l'image originale doit être dans [0,1], on force les pixels à ne valoir qu'une \n",
    "    # seule de ces valeurs\n",
    "    img_bin_noised = noise(img_bin, TAU, MU)\n",
    "    plt.imshow(img_bin_noised, cmap = \"gray\")\n",
    "    \n",
    "    tosave = Image.fromarray(tograyscale(img_bin_noised))\n",
    "    #tosave.convert(\"L\").save(\"data/\"+str(name)+\"_TAU=\"+str(TAU)+\".png\")\n",
    "    img_name = \"data/\"+str(name)+\"_TAU=\"+str(TAU)+ \"_MU=\"+str(MU[0])+\"_\"+str(MU[1])+\".png\"\n",
    "    print(img_name)\n",
    "    tosave.convert(\"L\").save(img_name)"
   ]
  },
  {
   "cell_type": "markdown",
   "id": "3001d572",
   "metadata": {},
   "source": [
    "## Fonctions liées au gibbs sampling à propos parlé"
   ]
  },
  {
   "cell_type": "code",
   "execution_count": 6,
   "id": "2ba7489a",
   "metadata": {},
   "outputs": [],
   "source": [
    "def sample(i, j, X, Y, maxi, maxj, ALPHA, BETA, TAU, MU):\n",
    "    \"\"\"\n",
    "    Echantillonne dans la distribution conditionnelle pour un pixel\n",
    "    \"\"\"\n",
    "   \n",
    "    # Ajout des valeurs des 4 voisins du pixel considéré, si pertinent\n",
    "    voisins = []\n",
    "    if i != 0:\n",
    "        voisins.append(X[i-1][j])\n",
    "    if i!= maxi-1:\n",
    "        voisins.append(X[i+1][j])\n",
    "    if j!= 0:\n",
    "        voisins.append(X[i][j-1])\n",
    "    if j!= maxj-1:\n",
    "        voisins.append(X[i][j+1])\n",
    "        \n",
    "    # Calcul du nombre de 0 et de 1 dans les voisins\n",
    "    nb_0 = sum(voisins[i] == 0 for i in range(len(voisins)))\n",
    "    nb_1 = sum(voisins[i] == 1 for i in range(len(voisins)))\n",
    "    \n",
    "    # Prise en considération de la variation du nombre de voisins (bords)\n",
    "    pond = 4/len(voisins) \n",
    "    \n",
    "    # Calcul de la probabilité de valoir 1\n",
    "    exp_valeur_1 = -ALPHA + BETA * pond * (nb_0-nb_1) + 1/(2*(TAU**2))*(MU[1]**2 - MU[0]**2 + 2*Y[i][j]*(MU[0]-MU[1]))\n",
    "    \n",
    "    # Calcul de la probabilité de valoir 0 (juste pour vérifier)\n",
    "    #exp_valeur_0 = ALPHA + BETA * pond * (nb_1-nb_0) + 1/(2*(TAU**2))*(MU[0]**2 - MU[1]**2 + 2*Y[i][j]*(MU[1]-MU[0]))\n",
    "    #print(1/(1+np.exp(exp_valeur_1)) + 1/(1+np.exp(exp_valeur_0)))\n",
    "    #print(1/(1+np.exp(exp_valeur_0)))\n",
    "    \n",
    "    prob = 1/(1+np.exp(exp_valeur_1))\n",
    "    \n",
    "    # Renvoie 1 si l'uniforme est inférieure à la proba de valoir 1\n",
    "    U = np.random.rand()\n",
    "    return(int(U < prob)) "
   ]
  },
  {
   "cell_type": "code",
   "execution_count": 7,
   "id": "d5a283f2",
   "metadata": {},
   "outputs": [],
   "source": [
    "def get_posterior(filename, burn_in, samples, ALPHA, BETA, TAU, deter = True, MU = [0.0,1.0]):\n",
    "    \"\"\"\n",
    "    Output les fréquences de valoir 1 pour chaque pixel\n",
    "    Par défaut mu vaut [0,1] donc pas de biais\n",
    "    \n",
    "    Attention, ici l'image qu'on ouvre doit bien être enregistrée en nuances de gris !\n",
    "    \"\"\"\n",
    "    \n",
    "    im_open = Image.open(filename)\n",
    "    Y = np.array(im_open)\n",
    "    im_open.close()\n",
    "    \n",
    "    # Vérification que l'image est bien en nuances de gris (\"2D\")\n",
    "    if len(Y.shape) != 2: \n",
    "        print(\"Erreur: l'image n'est pas en nuances de gris\")\n",
    "        return False\n",
    "    Y = Y / 255.0 # Puisque le bruitage a été fait dans [0,1], le débruitage doit l'être aussi\n",
    "    \n",
    "    \n",
    "    # Initialisation\n",
    "    posterior = np.zeros(Y.shape) #Sortie\n",
    "    \n",
    "    X = np.random.choice([1,0], size = Y.shape) # Matrice X\n",
    "    X_prior = X.copy() # Sauvegarde pour l'affichage plus bas\n",
    "    \n",
    "    maxi = Y.shape[0]\n",
    "    maxj = Y.shape[1]\n",
    "    pairs = []\n",
    "    \n",
    "    for i in range(maxi):\n",
    "        for j in range(maxj):\n",
    "            pairs.append((i,j))\n",
    "    \n",
    "    \n",
    "    for step in tqdm(range(burn_in + samples)):\n",
    "        \n",
    "        # On parcourt les pixels de manière déterministe (toujours la même)\n",
    "        if deter:\n",
    "            for i in range(maxi):\n",
    "                for j in range(maxj):\n",
    "                    x = sample(i, j, X, Y, maxi, maxj, ALPHA, BETA, TAU, MU)\n",
    "                    X[i,j] = x\n",
    "                    if x == 1 and step >= burn_in:\n",
    "                        posterior[i][j] += 1\n",
    "                        \n",
    "        # On parcourt les pixels de manière aléatoire\n",
    "        else:\n",
    "            random.shuffle(pairs) # On mélange la liste de pairs \n",
    "            for i,j in pairs:\n",
    "                x = sample(i, j, X, Y, maxi, maxj, ALPHA, BETA, TAU, MU)\n",
    "                X[i,j] = x\n",
    "                if x == 1 and step >= burn_in:\n",
    "                    posterior[i][j] += 1.0\n",
    "            \n",
    "            \n",
    "    \n",
    "    # On a ajouté 1 aux pixels à chaque itération réelle où il valait 1\n",
    "    # On divise par le nombre de samples pour avoir une fréquence\n",
    "    posterior = posterior / samples\n",
    "    \n",
    "    fig, axs = plt.subplots(1, 3)\n",
    "    axs[0].imshow(Y, cmap = \"gray\") \n",
    "    axs[0].set_title(\"Image bruitée\")\n",
    "    axs[1].imshow(X_prior, cmap = \"gray\")\n",
    "    axs[1].set_title(\"Prior aléatoire\")\n",
    "    axs[2].imshow(posterior, cmap = \"gray\")\n",
    "    axs[2].set_title(\"Posterior\")\n",
    "    plt.show()\n",
    "\n",
    "    return posterior"
   ]
  },
  {
   "cell_type": "code",
   "execution_count": 41,
   "id": "6e6ab44b",
   "metadata": {},
   "outputs": [],
   "source": [
    "def posterior_to_binary(posterior, seuil):\n",
    "    \"\"\"\n",
    "    Transforme notre posterior en nuances de gris en un posterior en noir et blanc\n",
    "    Tout pixel valant 1 a une fréquence supérieure au seuil est considéré comme valant 1\n",
    "    \"\"\"\n",
    "    \n",
    "    if seuil < 0 or seuil > 1.0:\n",
    "        print(\"Erreur: le seuil choisi ne correspond pas à une fréquence\")\n",
    "        return False \n",
    "    \n",
    "    # On remplit l'image de blanc\n",
    "    posterior_nb = np.ones(posterior.shape, dtype = np.float64)\n",
    "    \n",
    "    # On met des pixels noirs là où ils sont très peu souvent blancs\n",
    "    # Comme on relève la fréquence des pixels blancs, il faut qu'on soit inférieur à un seuil\n",
    "    # Cad qu'on met noirs les pixels très peu souvent blancs\n",
    "    posterior_nb[posterior < seuil] = 0\n",
    "    \n",
    "    plt.imshow(posterior_nb, cmap = \"gray\")\n",
    "    plt.show()\n",
    "    \n",
    "    return posterior_nb"
   ]
  },
  {
   "cell_type": "markdown",
   "id": "23e99033",
   "metadata": {},
   "source": [
    "# Tests"
   ]
  },
  {
   "cell_type": "code",
   "execution_count": null,
   "id": "35ba77a2",
   "metadata": {},
   "outputs": [],
   "source": []
  },
  {
   "cell_type": "markdown",
   "id": "1253ff67",
   "metadata": {},
   "source": [
    "# Bruitage d'une image"
   ]
  },
  {
   "cell_type": "markdown",
   "id": "48254cf3",
   "metadata": {},
   "source": [
    "**Bien se rappeler que tau correspond à l'écart-type et non pas à la variance !!**\n",
    "\n",
    "Le nom de l'image contient la valeur de tau et les valeurs de mu"
   ]
  },
  {
   "cell_type": "markdown",
   "id": "85a0680a",
   "metadata": {},
   "source": [
    "## Images sans biais"
   ]
  },
  {
   "cell_type": "code",
   "execution_count": 125,
   "id": "92d286ef",
   "metadata": {},
   "outputs": [
    {
     "name": "stdout",
     "output_type": "stream",
     "text": [
      "data/poke_noise_TAU=0.1_MU=0_1.png\n"
     ]
    },
    {
     "data": {
      "image/png": "[encoded data removed]",
      "text/plain": [
       "<Figure size 432x288 with 1 Axes>"
      ]
     },
     "metadata": {
      "needs_background": "light"
     },
     "output_type": "display_data"
    }
   ],
   "source": [
    "create_noised_image(\"data/poke.png\", \"poke_noise\", TAU= 0.1)"
   ]
  },
  {
   "cell_type": "code",
   "execution_count": 126,
   "id": "e890c356",
   "metadata": {},
   "outputs": [
    {
     "name": "stdout",
     "output_type": "stream",
     "text": [
      "data/poke_noise_TAU=0.2_MU=0_1.png\n"
     ]
    },
    {
     "data": {
      "image/png": "[encoded data removed]",
      "text/plain": [
       "<Figure size 432x288 with 1 Axes>"
      ]
     },
     "metadata": {
      "needs_background": "light"
     },
     "output_type": "display_data"
    }
   ],
   "source": [
    "create_noised_image(\"data/poke.png\", \"poke_noise\", TAU= 0.2)"
   ]
  },
  {
   "cell_type": "code",
   "execution_count": 134,
   "id": "c57dbb8d",
   "metadata": {},
   "outputs": [
    {
     "name": "stdout",
     "output_type": "stream",
     "text": [
      "data/poke_noise_TAU=0.4_MU=0_1.png\n"
     ]
    },
    {
     "data": {
      "image/png": "[encoded data removed]",
      "text/plain": [
       "<Figure size 432x288 with 1 Axes>"
      ]
     },
     "metadata": {
      "needs_background": "light"
     },
     "output_type": "display_data"
    }
   ],
   "source": [
    "create_noised_image(\"data/poke.png\", \"poke_noise\", TAU= 0.4)"
   ]
  },
  {
   "cell_type": "markdown",
   "id": "5408bc21",
   "metadata": {},
   "source": [
    "## Images avec biais"
   ]
  },
  {
   "cell_type": "code",
   "execution_count": 127,
   "id": "4a3ac989",
   "metadata": {},
   "outputs": [
    {
     "name": "stdout",
     "output_type": "stream",
     "text": [
      "data/poke_noise_TAU=0.1_MU=0.1_1.png\n"
     ]
    },
    {
     "data": {
      "image/png": "[encoded data removed]",
      "text/plain": [
       "<Figure size 432x288 with 1 Axes>"
      ]
     },
     "metadata": {
      "needs_background": "light"
     },
     "output_type": "display_data"
    }
   ],
   "source": [
    "create_noised_image(\"data/poke.png\", \"poke_noise\", TAU = 0.1, MU = [0.1, 1])"
   ]
  },
  {
   "cell_type": "code",
   "execution_count": 138,
   "id": "f6b348b1",
   "metadata": {},
   "outputs": [
    {
     "name": "stdout",
     "output_type": "stream",
     "text": [
      "data/poke_noise_TAU=0.1_MU=0.2_1.png\n"
     ]
    },
    {
     "data": {
      "image/png": "[encoded data removed]",
      "text/plain": [
       "<Figure size 432x288 with 1 Axes>"
      ]
     },
     "metadata": {
      "needs_background": "light"
     },
     "output_type": "display_data"
    }
   ],
   "source": [
    "create_noised_image(\"data/poke.png\", \"poke_noise\", TAU = 0.1, MU = [0.2, 1])"
   ]
  },
  {
   "cell_type": "code",
   "execution_count": 129,
   "id": "f86eb0d5",
   "metadata": {},
   "outputs": [
    {
     "name": "stdout",
     "output_type": "stream",
     "text": [
      "data/poke_noise_TAU=0.1_MU=0.3_1.png\n"
     ]
    },
    {
     "data": {
      "image/png": "[encoded data removed]",
      "text/plain": [
       "<Figure size 432x288 with 1 Axes>"
      ]
     },
     "metadata": {
      "needs_background": "light"
     },
     "output_type": "display_data"
    }
   ],
   "source": [
    "create_noised_image(\"data/poke.png\", \"poke_noise\", TAU = 0.1, MU = [0.3, 1])"
   ]
  },
  {
   "cell_type": "code",
   "execution_count": 144,
   "id": "061cdba6",
   "metadata": {},
   "outputs": [
    {
     "name": "stdout",
     "output_type": "stream",
     "text": [
      "data/poke_noise_TAU=0.1_MU=0.5_1.png\n"
     ]
    },
    {
     "data": {
      "image/png": "[encoded data removed]",
      "text/plain": [
       "<Figure size 432x288 with 1 Axes>"
      ]
     },
     "metadata": {
      "needs_background": "light"
     },
     "output_type": "display_data"
    }
   ],
   "source": [
    "create_noised_image(\"data/poke.png\", \"poke_noise\", TAU = 0.1, MU = [0.5, 1])"
   ]
  },
  {
   "cell_type": "markdown",
   "id": "42683ec8",
   "metadata": {},
   "source": [
    "# Q1 - Tentative de débruitage"
   ]
  },
  {
   "cell_type": "markdown",
   "id": "9232d338",
   "metadata": {},
   "source": [
    "## Images sans biais"
   ]
  },
  {
   "cell_type": "markdown",
   "id": "62b9ad5a",
   "metadata": {},
   "source": [
    "Avec un écart-type de 0.1, on arrive à débruiter en une seule étape"
   ]
  },
  {
   "cell_type": "code",
   "execution_count": 130,
   "id": "171a4c7b",
   "metadata": {},
   "outputs": [
    {
     "name": "stderr",
     "output_type": "stream",
     "text": [
      "100%|██████████| 1/1 [00:00<00:00, 50.06it/s]\n"
     ]
    },
    {
     "data": {
      "image/png": "[encoded data removed]",
      "text/plain": [
       "<Figure size 432x288 with 3 Axes>"
      ]
     },
     "metadata": {
      "needs_background": "light"
     },
     "output_type": "display_data"
    }
   ],
   "source": [
    "posterior = get_posterior(\"data/poke_noise_TAU=0.1_MU=0_1.png\", 0, 1, ALPHA = 1e-5, BETA = 0.2, TAU = 0.1, \n",
    "                          deter = True)"
   ]
  },
  {
   "cell_type": "markdown",
   "id": "3fc024cf",
   "metadata": {},
   "source": [
    "Avec un écart type plus élevé, ça se complique "
   ]
  },
  {
   "cell_type": "code",
   "execution_count": 17,
   "id": "c97938e0",
   "metadata": {},
   "outputs": [
    {
     "name": "stderr",
     "output_type": "stream",
     "text": [
      "100%|██████████| 110/110 [00:02<00:00, 43.08it/s]\n"
     ]
    },
    {
     "data": {
      "image/png": "[encoded data removed]",
      "text/plain": [
       "<Figure size 432x288 with 3 Axes>"
      ]
     },
     "metadata": {
      "needs_background": "light"
     },
     "output_type": "display_data"
    }
   ],
   "source": [
    "posterior = get_posterior(\"data/poke_noise_TAU=0.2_MU=0_1.png\", 10, 100, ALPHA = 0.01, BETA = 0.01, TAU = 0.2, \n",
    "                          deter = False)"
   ]
  },
  {
   "cell_type": "markdown",
   "id": "71faa252",
   "metadata": {},
   "source": [
    "Mais en filtrant les probas selon un seuil, on peut quand même retrouver l'image de base ! \n",
    "Ici, les pixels noirs sont les pixels qui ne sont pas blancs 99% du temps"
   ]
  },
  {
   "cell_type": "code",
   "execution_count": 40,
   "id": "831ae5d7",
   "metadata": {},
   "outputs": [
    {
     "data": {
      "image/png": "[encoded data removed]",
      "text/plain": [
       "<Figure size 432x288 with 1 Axes>"
      ]
     },
     "metadata": {
      "needs_background": "light"
     },
     "output_type": "display_data"
    }
   ],
   "source": [
    "post_nb = posterior_to_binary(posterior, seuil = 0.1)"
   ]
  },
  {
   "cell_type": "markdown",
   "id": "565e05ae",
   "metadata": {},
   "source": [
    "Pour un écart-type de 0.4, ca se complique encore. J'arrive à l'image générale mais pas exacte"
   ]
  },
  {
   "cell_type": "code",
   "execution_count": 135,
   "id": "9ff8a2f3",
   "metadata": {},
   "outputs": [
    {
     "name": "stderr",
     "output_type": "stream",
     "text": [
      "100%|██████████| 11000/11000 [03:16<00:00, 55.85it/s]\n"
     ]
    },
    {
     "data": {
      "image/png": "[encoded data removed]",
      "text/plain": [
       "<Figure size 432x288 with 3 Axes>"
      ]
     },
     "metadata": {
      "needs_background": "light"
     },
     "output_type": "display_data"
    }
   ],
   "source": [
    "posterior = get_posterior(\"data/poke_noise_TAU=0.4_MU=0_1.png\", 10000, 1000, ALPHA = 1.0, BETA = 0.6, TAU = 0.4, deter = False)"
   ]
  },
  {
   "cell_type": "code",
   "execution_count": 21,
   "id": "13132b1d",
   "metadata": {},
   "outputs": [
    {
     "data": {
      "image/png": "[encoded data removed]",
      "text/plain": [
       "<Figure size 432x288 with 1 Axes>"
      ]
     },
     "metadata": {
      "needs_background": "light"
     },
     "output_type": "display_data"
    }
   ],
   "source": [
    "post_nb = posterior_to_binary(posterior, seuil = 0.5)"
   ]
  },
  {
   "cell_type": "markdown",
   "id": "c216a98f",
   "metadata": {},
   "source": [
    "## Images avec biais"
   ]
  },
  {
   "cell_type": "markdown",
   "id": "b37e5048",
   "metadata": {},
   "source": [
    "Avec un biais faible et la même variance que précédemment, pas de problème"
   ]
  },
  {
   "cell_type": "code",
   "execution_count": 140,
   "id": "81a4e979",
   "metadata": {},
   "outputs": [
    {
     "name": "stderr",
     "output_type": "stream",
     "text": [
      "100%|██████████| 2000/2000 [00:34<00:00, 57.37it/s]\n"
     ]
    },
    {
     "data": {
      "image/png": "[encoded data removed]",
      "text/plain": [
       "<Figure size 432x288 with 3 Axes>"
      ]
     },
     "metadata": {
      "needs_background": "light"
     },
     "output_type": "display_data"
    }
   ],
   "source": [
    "posterior = get_posterior(\"data/poke_noise_TAU=0.1_MU=0.1_1.png\", 1000, 1000, ALPHA = 0.1, BETA = 0.1, \n",
    "                          TAU = 0.1, MU = [0.1, 1],deter = True)"
   ]
  },
  {
   "cell_type": "code",
   "execution_count": 142,
   "id": "97bcdc5d",
   "metadata": {},
   "outputs": [
    {
     "name": "stderr",
     "output_type": "stream",
     "text": [
      "100%|██████████| 2000/2000 [00:41<00:00, 48.04it/s]\n"
     ]
    },
    {
     "data": {
      "image/png": "[encoded data removed]",
      "text/plain": [
       "<Figure size 432x288 with 3 Axes>"
      ]
     },
     "metadata": {
      "needs_background": "light"
     },
     "output_type": "display_data"
    }
   ],
   "source": [
    "posterior = get_posterior(\"data/poke_noise_TAU=0.1_MU=0.2_1.png\", 1000, 1000, ALPHA = 0.1, BETA = 0.1, \n",
    "                          TAU = 0.1, MU = [0.2, 1],deter = True)"
   ]
  },
  {
   "cell_type": "code",
   "execution_count": 143,
   "id": "2e8f1a7e",
   "metadata": {},
   "outputs": [
    {
     "name": "stderr",
     "output_type": "stream",
     "text": [
      "100%|██████████| 2000/2000 [00:32<00:00, 60.68it/s]\n"
     ]
    },
    {
     "data": {
      "image/png": "[encoded data removed]",
      "text/plain": [
       "<Figure size 432x288 with 3 Axes>"
      ]
     },
     "metadata": {
      "needs_background": "light"
     },
     "output_type": "display_data"
    }
   ],
   "source": [
    "posterior = get_posterior(\"data/poke_noise_TAU=0.1_MU=0.3_1.png\", 1000, 1000, ALPHA = 0.1, BETA = 0.1, \n",
    "                          TAU = 0.1, MU = [0.3, 1],deter = True)"
   ]
  },
  {
   "cell_type": "markdown",
   "id": "17455e7a",
   "metadata": {},
   "source": [
    "Pour un ec plus élevé, ca se complique:"
   ]
  },
  {
   "cell_type": "code",
   "execution_count": 146,
   "id": "639b12fd",
   "metadata": {},
   "outputs": [
    {
     "name": "stderr",
     "output_type": "stream",
     "text": [
      "100%|██████████| 2000/2000 [00:46<00:00, 43.06it/s]\n"
     ]
    },
    {
     "data": {
      "image/png": "[encoded data removed]",
      "text/plain": [
       "<Figure size 432x288 with 3 Axes>"
      ]
     },
     "metadata": {
      "needs_background": "light"
     },
     "output_type": "display_data"
    }
   ],
   "source": [
    "posterior = get_posterior(\"data/poke_noise_TAU=0.1_MU=0.5_1.png\", 1000, 1000, ALPHA = 0.1, BETA = 0.1, \n",
    "                          TAU = 0.1, MU = [0.5, 1],deter = True)"
   ]
  },
  {
   "cell_type": "markdown",
   "id": "d6b6dafe",
   "metadata": {},
   "source": [
    "**Etrangement, il semble que si on prend une image biaisé avec un biais élevé et qu'on la débruite avec un biais considéré plus faible, cela marche plutot bien**\n",
    "\n",
    "--> Cela m'amène à douter concernant les algos mis en place\n",
    "\n",
    "Peut-être que là le passage par [0,1] crée des problèmes ?"
   ]
  },
  {
   "cell_type": "code",
   "execution_count": 147,
   "id": "a720de71",
   "metadata": {},
   "outputs": [
    {
     "name": "stderr",
     "output_type": "stream",
     "text": [
      "100%|██████████| 2000/2000 [00:35<00:00, 56.30it/s]\n"
     ]
    },
    {
     "data": {
      "image/png": "[encoded data removed]",
      "text/plain": [
       "<Figure size 432x288 with 3 Axes>"
      ]
     },
     "metadata": {
      "needs_background": "light"
     },
     "output_type": "display_data"
    }
   ],
   "source": [
    "posterior = get_posterior(\"data/poke_noise_TAU=0.1_MU=0.5_1.png\", 1000, 1000, ALPHA = 0.1, BETA = 0.1, \n",
    "                          TAU = 0.1, MU = [0.3, 1],deter = True)"
   ]
  },
  {
   "cell_type": "code",
   "execution_count": 148,
   "id": "13c94f3b",
   "metadata": {},
   "outputs": [
    {
     "name": "stderr",
     "output_type": "stream",
     "text": [
      "100%|██████████| 2000/2000 [00:32<00:00, 61.19it/s]\n"
     ]
    },
    {
     "data": {
      "image/png": "[encoded data removed]",
      "text/plain": [
       "<Figure size 432x288 with 3 Axes>"
      ]
     },
     "metadata": {
      "needs_background": "light"
     },
     "output_type": "display_data"
    }
   ],
   "source": [
    "posterior = get_posterior(\"data/poke_noise_TAU=0.1_MU=0.5_1.png\", 1000, 1000, ALPHA = 0.1, BETA = 0.1, \n",
    "                          TAU = 0.1, MU = [0.1, 1],deter = True)"
   ]
  },
  {
   "cell_type": "markdown",
   "id": "c85d108e",
   "metadata": {},
   "source": [
    "# Question 2"
   ]
  },
  {
   "cell_type": "code",
   "execution_count": 12,
   "id": "d4f79b13",
   "metadata": {},
   "outputs": [],
   "source": [
    "from scipy.stats import invgamma"
   ]
  },
  {
   "cell_type": "markdown",
   "id": "e6b31436",
   "metadata": {},
   "source": [
    "## Concernant la loi inverse gamma dans scipy.stats"
   ]
  },
  {
   "cell_type": "markdown",
   "id": "96f8fa5b",
   "metadata": {},
   "source": [
    "* Scale = beta\n",
    "* a = alpha\n",
    "\n",
    "Pour avoir une invgamma($\\alpha$, $\\beta$) classique, utiliser donc:\n",
    "invgamma(a = alpha, loc = 0, scale = beta)"
   ]
  },
  {
   "cell_type": "markdown",
   "id": "972459e1",
   "metadata": {},
   "source": [
    "## Fonctions"
   ]
  },
  {
   "cell_type": "code",
   "execution_count": 15,
   "id": "68390bc6",
   "metadata": {},
   "outputs": [],
   "source": [
    "def sample_TAU(X, Y, maxi, maxj, TAU, MU, a, b):\n",
    "    \n",
    "    X_mu = np.zeros(shape = Y.shape)\n",
    "    \n",
    "    ##### Techniquement il faudrait remplacer chaque élément de X par la valeur correspondante du vecteur MU\n",
    "    # Ici je garde MU[0] = 0 et MU[1] = 1 donc osef mais il faudra le changer \n",
    "    # Et j'imagine qu'on peut le faire d'une facon plus efficace que juste boucler sur tous les pixels\n",
    "    \n",
    "    somme = ((Y - X)**2).sum()\n",
    "    \n",
    "    a = a + (maxi*maxj)\n",
    "    b = b + 1/2* somme\n",
    "    TAU2 = invgamma.rvs(a = a, scale = b)\n",
    "    \n",
    "    return np.sqrt(TAU2), a, b"
   ]
  },
  {
   "cell_type": "code",
   "execution_count": 10,
   "id": "fb827650",
   "metadata": {},
   "outputs": [],
   "source": [
    "def get_posterior2(filename, burn_in, samples, ALPHA, BETA, deter = True, MU = [0.0,1.0]):\n",
    "    \"\"\"\n",
    "    Output les fréquences de valoir 1 pour chaque pixel\n",
    "    Par défaut mu vaut [0,1] donc pas de biais\n",
    "    \n",
    "    Attention, ici l'image qu'on ouvre doit bien être enregistrée en nuances de gris !\n",
    "    \"\"\"\n",
    "    \n",
    "    im_open = Image.open(filename)\n",
    "    Y = np.array(im_open)\n",
    "    im_open.close()\n",
    "    \n",
    "    # Vérification que l'image est bien en nuances de gris (\"2D\")\n",
    "    if len(Y.shape) != 2: \n",
    "        print(\"Erreur: l'image n'est pas en nuances de gris\")\n",
    "        return False\n",
    "    Y = Y / 255.0 # Puisque le bruitage a été fait dans [0,1], le débruitage doit l'être aussi\n",
    "    \n",
    "    \n",
    "    # Initialisation\n",
    "    posterior = np.zeros(Y.shape) #Sortie\n",
    "    X = np.random.choice([1,0], size = Y.shape) # Matrice X\n",
    "    X_prior = X.copy() # Sauvegarde pour l'affichage plus bas\n",
    "    \n",
    "    a = 2 \n",
    "    b = 0.5\n",
    "    TAU2 = invgamma.rvs(a = a, scale = b) # On tire dans une inverse gamma pour le prior de TAU2\n",
    "    TAU = np.sqrt(TAU2)\n",
    "    #print(TAU)\n",
    "    TAUS = [] # Liste pour vérifier la convergence de TAU\n",
    "    \n",
    "    maxi = Y.shape[0]\n",
    "    maxj = Y.shape[1]\n",
    "    pairs = []\n",
    "    \n",
    "    for i in range(maxi):\n",
    "        for j in range(maxj):\n",
    "            pairs.append((i,j))\n",
    "    \n",
    "    \n",
    "    for step in tqdm(range(burn_in + samples)):\n",
    "        \n",
    "        # On parcourt les pixels de manière déterministe (toujours la même)\n",
    "        if deter:\n",
    "            for i in range(maxi):\n",
    "                for j in range(maxj):\n",
    "                    x = sample(i, j, X, Y, maxi, maxj, ALPHA, BETA, TAU, MU)\n",
    "                    X[i,j] = x\n",
    "                    if x == 1 and step >= burn_in:\n",
    "                        posterior[i][j] += 1\n",
    "                     \n",
    "        # On parcourt les pixels de manière aléatoire\n",
    "        else:\n",
    "            random.shuffle(pairs) # On mélange la liste de pairs \n",
    "            for i,j in pairs:\n",
    "                x = sample(i, j, X, Y, maxi, maxj, ALPHA, BETA, TAU, MU)\n",
    "                X[i,j] = x\n",
    "                if x == 1 and step >= burn_in:\n",
    "                    posterior[i][j] += 1.0\n",
    "        \n",
    "        # Mise à jour de TAU\n",
    "        TAU, a, b = sample_TAU(X, Y, maxi, maxj, TAU, MU, a, b)\n",
    "        if step >= burn_in:\n",
    "            TAUS.append(TAU)\n",
    "            \n",
    "    \n",
    "    # On a ajouté 1 aux pixels à chaque itération réelle où il valait 1\n",
    "    # On fait la moyenne\n",
    "    posterior = posterior / samples\n",
    "    \n",
    "    fig, axs = plt.subplots(2, 2)\n",
    "    axs[0,0].imshow(Y, cmap = \"gray\") \n",
    "    axs[0,0].set_title(\"Image bruitée\")\n",
    "    axs[0,1].imshow(X_prior, cmap = \"gray\")\n",
    "    axs[0,1].set_title(\"Prior aléatoire\")\n",
    "    axs[1,0].imshow(posterior, cmap = \"gray\")\n",
    "    axs[1,0].set_title(\"Posterior\")\n",
    "    axs[1,1].plot(TAUS)\n",
    "    axs[1,1].set_title(\"Evolution de la valeur de tau\")\n",
    "    \n",
    "    plt.subplots_adjust(left=0.1,\n",
    "                    bottom=0.1, \n",
    "                    right=0.9, \n",
    "                    top=0.9, \n",
    "                    wspace=0.4, \n",
    "                    hspace=0.4)\n",
    "    plt.show()\n",
    "    \n",
    "    print(np.mean(TAUS))\n",
    "\n",
    "    return posterior"
   ]
  },
  {
   "cell_type": "code",
   "execution_count": 16,
   "id": "cd7216da",
   "metadata": {},
   "outputs": [
    {
     "name": "stderr",
     "output_type": "stream",
     "text": [
      "100%|██████████| 1100/1100 [00:21<00:00, 51.25it/s]\n"
     ]
    },
    {
     "data": {
      "image/png": "[encoded data removed]",
      "text/plain": [
       "<Figure size 432x288 with 4 Axes>"
      ]
     },
     "metadata": {
      "needs_background": "light"
     },
     "output_type": "display_data"
    },
    {
     "name": "stdout",
     "output_type": "stream",
     "text": [
      "0.25070978105007596\n"
     ]
    }
   ],
   "source": [
    "posterior = get_posterior2(\"data/poke_noise_TAU=0.1_MU=0_1.png\", 1000, 100, ALPHA = 0.2, BETA = 0.2,  \n",
    "                          deter = True)"
   ]
  },
  {
   "cell_type": "code",
   "execution_count": 153,
   "id": "84e7f83b",
   "metadata": {},
   "outputs": [
    {
     "name": "stderr",
     "output_type": "stream",
     "text": [
      "100%|██████████| 1100/1100 [00:19<00:00, 57.40it/s]\n"
     ]
    },
    {
     "data": {
      "image/png": "[encoded data removed]",
      "text/plain": [
       "<Figure size 432x288 with 4 Axes>"
      ]
     },
     "metadata": {
      "needs_background": "light"
     },
     "output_type": "display_data"
    },
    {
     "name": "stdout",
     "output_type": "stream",
     "text": [
      "0.2069707721913231\n"
     ]
    }
   ],
   "source": [
    "posterior = get_posterior2(\"data/poke_noise_TAU=0.2_MU=0_1.png\", 1000, 100, ALPHA = 0.2, BETA = 0.2,  \n",
    "                          deter = True)"
   ]
  },
  {
   "cell_type": "markdown",
   "id": "0c41f83b",
   "metadata": {},
   "source": [
    "De mes expériences, je retiens que:\n",
    "\n",
    "* On retrouve relativement bien l'image de base\n",
    "\n",
    "* On ne retombe pas tout à fait sur l'écart-type d'origine"
   ]
  }
 ],
 "metadata": {
  "kernelspec": {
   "display_name": "Python 3",
   "language": "python",
   "name": "python3"
  },
  "language_info": {
   "codemirror_mode": {
    "name": "ipython",
    "version": 3
   },
   "file_extension": ".py",
   "mimetype": "text/x-python",
   "name": "python",
   "nbconvert_exporter": "python",
   "pygments_lexer": "ipython3",
   "version": "3.7.4"
  }
 },
 "nbformat": 4,
 "nbformat_minor": 5
}
