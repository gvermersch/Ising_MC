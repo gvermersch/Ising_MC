{
 "cells": [
  {
   "cell_type": "code",
   "execution_count": 1,
   "id": "4183ed62",
   "metadata": {},
   "outputs": [],
   "source": [
    "import numpy as np\n",
    "import matplotlib.pyplot as plt\n",
    "from PIL import Image, ImageOps\n",
    "from tqdm import tqdm\n",
    "import random"
   ]
  },
  {
   "cell_type": "markdown",
   "id": "ee8da3dc",
   "metadata": {},
   "source": [
    "# Concernant les couleurs"
   ]
  },
  {
   "cell_type": "code",
   "execution_count": 79,
   "id": "b12b1b15",
   "metadata": {},
   "outputs": [
    {
     "data": {
      "image/png": "[encoded data removed]",
      "text/plain": [
       "<Figure size 432x288 with 4 Axes>"
      ]
     },
     "metadata": {
      "needs_background": "light"
     },
     "output_type": "display_data"
    }
   ],
   "source": [
    "matrix_color = [np.array([[0,1,0],[1,0,1],[0,1,0]]),\n",
    "                np.array([[1,0,1],[0,1,0],[1,0,1]]),\n",
    "                np.array([[0,255,0],[255,0,255],[0,255,0]]),\n",
    "                np.array([[255,0,255],[0,255,0],[255,0,255]])]\n",
    "fig, axs = plt.subplots(2, 2)\n",
    "axs[0,0].imshow(matrix_color[0], cmap = \"gray\") \n",
    "axs[0,1].imshow(matrix_color[1], cmap = \"gray\")\n",
    "axs[1,0].imshow(matrix_color[2], cmap = \"gray\")\n",
    "axs[1,1].imshow(matrix_color[3], cmap = \"gray\")\n",
    "plt.show()"
   ]
  },
  {
   "cell_type": "markdown",
   "id": "2e2f7cd1",
   "metadata": {},
   "source": [
    "**Donc, il semble que**\n",
    "* 0 = noir\n",
    "* 1 (si 0/1) ou 255 (si 0/255) = blanc"
   ]
  },
  {
   "cell_type": "markdown",
   "id": "24ef51b6",
   "metadata": {},
   "source": [
    "# Fonctions"
   ]
  },
  {
   "cell_type": "markdown",
   "id": "c283663b",
   "metadata": {},
   "source": [
    "## Fonctions liées à l'ajout de gris à une image"
   ]
  },
  {
   "cell_type": "code",
   "execution_count": 2,
   "id": "43791c8d",
   "metadata": {},
   "outputs": [],
   "source": [
    "def tograyscale(mat):\n",
    "    \"\"\"\n",
    "    Scale les nombres de la matrice dans [0,255] (pour permettre les images en nuance de gris)\n",
    "    Mais ne prend pas encore en compte le négatif\n",
    "    \"\"\"\n",
    "    scaled_mat = 255.0 * mat / mat.max()\n",
    "    #scaled_mat[scaled_mat<0] = 0 ?\n",
    "    return scaled_mat"
   ]
  },
  {
   "cell_type": "code",
   "execution_count": 3,
   "id": "bf33e14f",
   "metadata": {},
   "outputs": [],
   "source": [
    "def to_binary(filename):\n",
    "    \"\"\"\n",
    "    Importation de l'image, passage en nuance de gris, puis passage dans {0,1}\n",
    "    \"\"\"\n",
    "    my_img = Image.open(filename)\n",
    "    img_gray = ImageOps.grayscale(my_img) # Conversion en nuances de gris\n",
    "    img_gray = np.array(img_gray)\n",
    "    img_gray_binary = np.where(img_gray > 0.5, 1, 0) #Passage en binaire (méthodologie douteuse)\n",
    "    return img_gray_binary\n"
   ]
  },
  {
   "cell_type": "code",
   "execution_count": 4,
   "id": "43e5b151",
   "metadata": {},
   "outputs": [],
   "source": [
    "def noise(img, TAU, MU):\n",
    "    \"\"\"\n",
    "    Ajout d'un bruit gaussien aux pixels de l'image\n",
    "    \"\"\"\n",
    "    img_noised = np.zeros(shape = img.shape)\n",
    "    row, col = np.shape(img)\n",
    "    for i in range(row):\n",
    "        for j in range(col):\n",
    "            # ATTENTION: scale c'est l'écart type et pas la variance !\n",
    "            img_noised[i,j] = np.random.normal(loc = MU[int(img[i,j])], scale = TAU)\n",
    "    \n",
    "    return img_noised"
   ]
  },
  {
   "cell_type": "code",
   "execution_count": 137,
   "id": "fe434c44",
   "metadata": {},
   "outputs": [],
   "source": [
    "def create_noised_image(img, name, TAU, MU = [0,1]):\n",
    "    \"\"\"\n",
    "    img = chemin vers l'image à bruiter\n",
    "    name = suffixe de l'image bruitée enregistrée\n",
    "    TAU = écart-type pour le bruit gaussien\n",
    "    MU = moyenne pour le bruit gaussien MU[0] = 0, MU[1] = 1 par défaut donc bruit centré\n",
    "    Pour faire un autre bruit MU[0] correspond au biais des pixels valant 0 dans l'image d'origine\n",
    "    MU[1] correspond au biais valant 1 dans l'image d'origine\n",
    "    \"\"\"\n",
    "    \n",
    "    img_bin = to_binary(img) # Vu que l'image originale doit être dans [0,1], on force les pixels à ne valoir qu'une \n",
    "    # seule de ces valeurs\n",
    "    img_bin_noised = noise(img_bin, TAU, MU)\n",
    "    plt.imshow(img_bin_noised, cmap = \"gray\")\n",
    "    \n",
    "    tosave = Image.fromarray(tograyscale(img_bin_noised))\n",
    "    tosave.convert(\"L\").save(\"data/\"+str(name)+\"_TAU=\"+str(TAU)+\".png\")\n",
    "    tosave.convert(\"L\").save(\"data/\"+str(name)+\"_TAU=\"+str(TAU)+\n",
    "                             \"_MU=\"+str(MU[0])+\"_\"+str(MU[1])+\".png\")"
   ]
  },
  {
   "cell_type": "markdown",
   "id": "3001d572",
   "metadata": {},
   "source": [
    "## Fonctions liées au gibbs sampling à propos parlé"
   ]
  },
  {
   "cell_type": "code",
   "execution_count": 6,
   "id": "2ba7489a",
   "metadata": {},
   "outputs": [],
   "source": [
    "def sample(i, j, X, Y, maxi, maxj, ALPHA, BETA, TAU, MU):\n",
    "    \"\"\"\n",
    "    Echantillonne dans la distribution conditionnelle pour un pixel\n",
    "    \"\"\"\n",
    "   \n",
    "    # Ajout des valeurs des 4 voisins du pixel considéré, si pertinent\n",
    "    voisins = []\n",
    "    if i != 0:\n",
    "        voisins.append(X[i-1][j])\n",
    "    if i!= maxi-1:\n",
    "        voisins.append(X[i+1][j])\n",
    "    if j!= 0:\n",
    "        voisins.append(X[i][j-1])\n",
    "    if j!= maxj-1:\n",
    "        voisins.append(X[i][j+1])\n",
    "        \n",
    "    # Calcul du nombre de 0 et de 1 dans les voisins\n",
    "    nb_0 = sum(voisins[i] == 0 for i in range(len(voisins)))\n",
    "    nb_1 = sum(voisins[i] == 1 for i in range(len(voisins)))\n",
    "    \n",
    "    # Prise en considération de la variation du nombre de voisins (bords)\n",
    "    pond = 4/len(voisins) \n",
    "    \n",
    "    # Calcul de la probabilité de valoir 1\n",
    "    exp_valeur_1 = -ALPHA + BETA * pond * (nb_0-nb_1) + 1/(2*(TAU**2))*(MU[1]**2 - MU[0]**2 + 2*Y[i][j]*(MU[0]-MU[1]))\n",
    "    \n",
    "    # Calcul de la probabilité de valoir 0 (juste pour vérifier)\n",
    "    #exp_valeur_0 = ALPHA + BETA * pond * (nb_1-nb_0) + 1/(2*(TAU**2))*(MU[0]**2 - MU[1]**2 + 2*Y[i][j]*(MU[1]-MU[0]))\n",
    "    #print(1/(1+np.exp(exp_valeur_1)) + 1/(1+np.exp(exp_valeur_0)))\n",
    "    #print(1/(1+np.exp(exp_valeur_0)))\n",
    "    \n",
    "    prob = 1/(1+np.exp(exp_valeur_1))\n",
    "    \n",
    "    # Renvoie 1 si l'uniforme est inférieure à la proba de valoir 1\n",
    "    U = np.random.rand()\n",
    "    return(int(U < prob)) "
   ]
  },
  {
   "cell_type": "code",
   "execution_count": 70,
   "id": "d5a283f2",
   "metadata": {},
   "outputs": [],
   "source": [
    "def get_posterior(filename, burn_in, samples, ALPHA, BETA, TAU, deter = True, MU = [0.0,1.0]):\n",
    "    \"\"\"\n",
    "    Output les fréquences de valoir 1 pour chaque pixel\n",
    "    Par défaut mu vaut [0,1] donc pas de biais\n",
    "    \n",
    "    Attention, ici l'image qu'on ouvre doit bien être enregistrée en nuances de gris !\n",
    "    \"\"\"\n",
    "    \n",
    "    im_open = Image.open(filename)\n",
    "    Y = np.array(im_open)\n",
    "    im_open.close()\n",
    "    \n",
    "    # Vérification que l'image est bien en nuances de gris (\"2D\")\n",
    "    if len(Y.shape) != 2: \n",
    "        print(\"Erreur: l'image n'est pas en nuances de gris\")\n",
    "        return False\n",
    "    Y = Y / 255.0 # Puisque le bruitage a été fait dans [0,1], le débruitage doit l'être aussi\n",
    "    \n",
    "    \n",
    "    # Initialisation\n",
    "    posterior = np.zeros(Y.shape) #Sortie\n",
    "    \n",
    "    X = np.random.choice([1,0], size = Y.shape) # Matrice X\n",
    "    X_prior = X.copy() # Sauvegarde pour l'affichage plus bas\n",
    "    \n",
    "    maxi = Y.shape[0]\n",
    "    maxj = Y.shape[1]\n",
    "    pairs = []\n",
    "    \n",
    "    for i in range(maxi):\n",
    "        for j in range(maxj):\n",
    "            pairs.append((i,j))\n",
    "    \n",
    "    \n",
    "    for step in tqdm(range(burn_in + samples)):\n",
    "        \n",
    "        # On parcourt les pixels de manière déterministe (toujours la même)\n",
    "        if deter:\n",
    "            for i in range(maxi):\n",
    "                for j in range(maxj):\n",
    "                    x = sample(i, j, X, Y, maxi, maxj, ALPHA, BETA, TAU, MU)\n",
    "                    X[i,j] = x\n",
    "                    if x == 1 and step >= burn_in:\n",
    "                        posterior[i][j] += 1\n",
    "                        \n",
    "        # On parcourt les pixels de manière aléatoire\n",
    "        else:\n",
    "            random.shuffle(pairs) # On mélange la liste de pairs \n",
    "            for i,j in pairs:\n",
    "                x = sample(i, j, X, Y, maxi, maxj, ALPHA, BETA, TAU, MU)\n",
    "                X[i,j] = x\n",
    "                if x == 1 and step >= burn_in:\n",
    "                    posterior[i][j] += 1.0\n",
    "            \n",
    "            \n",
    "    \n",
    "    # On a ajouté 1 aux pixels à chaque itération réelle où il valait 1\n",
    "    # On fait la moyenne\n",
    "    posterior = posterior / samples\n",
    "    \n",
    "    fig, axs = plt.subplots(1, 3)\n",
    "    axs[0].imshow(Y, cmap = \"gray\") \n",
    "    axs[0].set_title(\"Image bruitée\")\n",
    "    axs[1].imshow(X_prior, cmap = \"gray\")\n",
    "    axs[1].set_title(\"Prior aléatoire\")\n",
    "    axs[2].imshow(posterior, cmap = \"gray\")\n",
    "    axs[2].set_title(\"Posterior\")\n",
    "    plt.show()\n",
    "\n",
    "    return posterior"
   ]
  },
  {
   "cell_type": "code",
   "execution_count": 87,
   "id": "6e6ab44b",
   "metadata": {},
   "outputs": [],
   "source": [
    "def posterior_to_binary(posterior, seuil):\n",
    "    \"\"\"\n",
    "    Transforme notre posterior en nuances de gris en un posterior en noir et blanc\n",
    "    Tout pixel valant 1 a une fréquence supérieure au seuil est considéré comme valant 1\n",
    "    \"\"\"\n",
    "    \n",
    "    if seuil < 0 or seuil > 1.0:\n",
    "        print(\"Erreur: le seuil choisi ne correspond pas à une fréquence\")\n",
    "        return False \n",
    "    \n",
    "    # On remplit l'image de blanc\n",
    "    posterior_nb = np.ones(posterior.shape, dtype = np.float64)\n",
    "    \n",
    "    # On met des pixels noirs là où ils sont très peu souvent blancs\n",
    "    # Comme on relève la fréquence des pixels blancs, il faut qu'on soit inférieur à un seuil\n",
    "    # Cad qu'on met noirs les pixels très peu souvent blancs\n",
    "    posterior_nb[posterior < seuil] = 0\n",
    "    plt.imshow(posterior_nb, cmap = \"gray\")\n",
    "    plt.show()\n",
    "    \n",
    "    return posterior_nb"
   ]
  },
  {
   "cell_type": "markdown",
   "id": "23e99033",
   "metadata": {},
   "source": [
    "# Tests"
   ]
  },
  {
   "cell_type": "code",
   "execution_count": null,
   "id": "b3038a91",
   "metadata": {},
   "outputs": [],
   "source": [
    "I = 2\n",
    "J = 2\n",
    "pairs = []\n",
    "\n",
    "for i in range(I):\n",
    "    for j in range(J):\n",
    "        pairs.append((i,j))\n",
    "random.shuffle(pairs)\n",
    "pairs"
   ]
  },
  {
   "cell_type": "markdown",
   "id": "1253ff67",
   "metadata": {},
   "source": [
    "# Bruitage d'une image"
   ]
  },
  {
   "cell_type": "markdown",
   "id": "48254cf3",
   "metadata": {},
   "source": [
    "**Bien se rappeler que tau correspond à l'écart-type et non pas à la variance !!**\n",
    "Le nom de l'image contient la valeur de tau et les valeurs de mu"
   ]
  },
  {
   "cell_type": "code",
   "execution_count": 19,
   "id": "92d286ef",
   "metadata": {},
   "outputs": [
    {
     "data": {
      "image/png": "[encoded data removed]",
      "text/plain": [
       "<Figure size 432x288 with 1 Axes>"
      ]
     },
     "metadata": {
      "needs_background": "light"
     },
     "output_type": "display_data"
    }
   ],
   "source": [
    "create_noised_image(\"data/poke.png\", \"poke_noise\", TAU= 0.1)"
   ]
  },
  {
   "cell_type": "code",
   "execution_count": 22,
   "id": "e890c356",
   "metadata": {},
   "outputs": [
    {
     "data": {
      "image/png": "[encoded data removed]",
      "text/plain": [
       "<Figure size 432x288 with 1 Axes>"
      ]
     },
     "metadata": {
      "needs_background": "light"
     },
     "output_type": "display_data"
    }
   ],
   "source": [
    "create_noised_image(\"data/poke.png\", \"poke_noise\", TAU= 0.2)"
   ]
  },
  {
   "cell_type": "code",
   "execution_count": 23,
   "id": "05151872",
   "metadata": {},
   "outputs": [
    {
     "data": {
      "image/png": "[encoded data removed]",
      "text/plain": [
       "<Figure size 432x288 with 1 Axes>"
      ]
     },
     "metadata": {
      "needs_background": "light"
     },
     "output_type": "display_data"
    }
   ],
   "source": [
    "create_noised_image(\"data/poke.png\", \"poke_noise\", TAU= 0.4)"
   ]
  },
  {
   "cell_type": "code",
   "execution_count": 140,
   "id": "4a3ac989",
   "metadata": {},
   "outputs": [
    {
     "data": {
      "image/png": "[encoded data removed]",
      "text/plain": [
       "<Figure size 432x288 with 1 Axes>"
      ]
     },
     "metadata": {
      "needs_background": "light"
     },
     "output_type": "display_data"
    }
   ],
   "source": [
    "create_noised_image(\"data/poke.png\", \"poke_noise\", TAU = 0.1, MU = [0.5, 1])"
   ]
  },
  {
   "cell_type": "markdown",
   "id": "6c1fb4a0",
   "metadata": {},
   "source": [
    "# Exemple d'affichage d'une image"
   ]
  },
  {
   "cell_type": "code",
   "execution_count": null,
   "id": "12a80b81",
   "metadata": {},
   "outputs": [],
   "source": [
    "og_image = Image.open(\"data/poke_noise_01_0point1.png\")\n",
    "plt.imshow(og_image, cmap = \"gray\")\n",
    "og_array = np.array(og_image)\n",
    "print(og_array)\n",
    "og_bis = np.ones(shape = og_array.shape)\n",
    "og_bis[og_array<1] = 0\n",
    "plt.imshow(og_bis, cmap = \"gray\")\n",
    "og_image.close()"
   ]
  },
  {
   "cell_type": "markdown",
   "id": "42683ec8",
   "metadata": {},
   "source": [
    "# Tentative de débruitage"
   ]
  },
  {
   "cell_type": "markdown",
   "id": "62b9ad5a",
   "metadata": {},
   "source": [
    "Avec un écart-type de 0.1, on arrive à débruiter en une seule étape"
   ]
  },
  {
   "cell_type": "code",
   "execution_count": 71,
   "id": "171a4c7b",
   "metadata": {},
   "outputs": [
    {
     "name": "stderr",
     "output_type": "stream",
     "text": [
      "100%|██████████| 1/1 [00:00<00:00, 23.65it/s]\n"
     ]
    },
    {
     "data": {
      "image/png": "[encoded data removed]",
      "text/plain": [
       "<Figure size 432x288 with 3 Axes>"
      ]
     },
     "metadata": {
      "needs_background": "light"
     },
     "output_type": "display_data"
    }
   ],
   "source": [
    "posterior = get_posterior(\"data/poke_noise_TAU=0.1.png\", 0, 1, ALPHA = 1e-5, BETA = 0.2, TAU = 0.1, \n",
    "                          deter = True)"
   ]
  },
  {
   "cell_type": "markdown",
   "id": "3fc024cf",
   "metadata": {},
   "source": [
    "Avec un écart type plus élevé, ça se complique "
   ]
  },
  {
   "cell_type": "code",
   "execution_count": 74,
   "id": "c97938e0",
   "metadata": {},
   "outputs": [
    {
     "name": "stderr",
     "output_type": "stream",
     "text": [
      "100%|██████████| 110/110 [00:03<00:00, 35.79it/s]\n"
     ]
    },
    {
     "data": {
      "image/png": "[encoded data removed]",
      "text/plain": [
       "<Figure size 432x288 with 3 Axes>"
      ]
     },
     "metadata": {
      "needs_background": "light"
     },
     "output_type": "display_data"
    }
   ],
   "source": [
    "posterior = get_posterior(\"data/poke_noise_TAU=0.2.png\", 10, 100, ALPHA = 0.01, BETA = 0.01, TAU = 0.2, \n",
    "                          deter = False)"
   ]
  },
  {
   "cell_type": "markdown",
   "id": "71faa252",
   "metadata": {},
   "source": [
    "Mais en filtrant les probas selon un seuil, on peut quand même retrouver l'image de base ! \n",
    "Ici, les pixels noirs sont les pixels qui ne sont pas blancs 99% du temps"
   ]
  },
  {
   "cell_type": "code",
   "execution_count": 90,
   "id": "831ae5d7",
   "metadata": {},
   "outputs": [
    {
     "data": {
      "image/png": "[encoded data removed]",
      "text/plain": [
       "<Figure size 432x288 with 1 Axes>"
      ]
     },
     "metadata": {
      "needs_background": "light"
     },
     "output_type": "display_data"
    }
   ],
   "source": [
    "post_nb = posterior_to_binary(posterior, seuil = 0.01)"
   ]
  },
  {
   "cell_type": "markdown",
   "id": "565e05ae",
   "metadata": {},
   "source": [
    "Pour un écart-type de 0.4, ca se complique encore. J'arrive à l'image générale mais pas exacte"
   ]
  },
  {
   "cell_type": "code",
   "execution_count": 114,
   "id": "9ff8a2f3",
   "metadata": {},
   "outputs": [
    {
     "name": "stderr",
     "output_type": "stream",
     "text": [
      "100%|██████████| 11000/11000 [03:54<00:00, 46.84it/s]\n"
     ]
    },
    {
     "data": {
      "image/png": "[encoded data removed]",
      "text/plain": [
       "<Figure size 432x288 with 3 Axes>"
      ]
     },
     "metadata": {
      "needs_background": "light"
     },
     "output_type": "display_data"
    }
   ],
   "source": [
    "posterior = get_posterior(\"data/poke_noise_TAU=0.4.png\", 10000, 1000, ALPHA = 1.0, BETA = 0.6, TAU = 0.4, \n",
    "                          deter = False)"
   ]
  },
  {
   "cell_type": "code",
   "execution_count": 117,
   "id": "13132b1d",
   "metadata": {},
   "outputs": [
    {
     "data": {
      "image/png": "[encoded data removed]",
      "text/plain": [
       "<Figure size 432x288 with 1 Axes>"
      ]
     },
     "metadata": {
      "needs_background": "light"
     },
     "output_type": "display_data"
    }
   ],
   "source": [
    "post_nb = posterior_to_binary(posterior, seuil = 0.5)"
   ]
  },
  {
   "cell_type": "markdown",
   "id": "963379f0",
   "metadata": {},
   "source": [
    "Essaie sur des images avec un biais"
   ]
  },
  {
   "cell_type": "markdown",
   "id": "b37e5048",
   "metadata": {},
   "source": [
    "Avec des biais faibles peu de problèmes"
   ]
  },
  {
   "cell_type": "code",
   "execution_count": 134,
   "id": "81a4e979",
   "metadata": {},
   "outputs": [
    {
     "name": "stderr",
     "output_type": "stream",
     "text": [
      "100%|██████████| 2000/2000 [00:51<00:00, 38.54it/s]\n"
     ]
    },
    {
     "data": {
      "image/png": "[encoded data removed]",
      "text/plain": [
       "<Figure size 432x288 with 3 Axes>"
      ]
     },
     "metadata": {
      "needs_background": "light"
     },
     "output_type": "display_data"
    }
   ],
   "source": [
    "posterior = get_posterior(\"data/poke_noise_TAU=0.1_MU0.1_1.png\", 1000, 1000, ALPHA = 0.1, \n",
    "                          BETA = 0.1, TAU = 0.1, MU = [0.1, 1],\n",
    "                          deter = True)"
   ]
  },
  {
   "cell_type": "code",
   "execution_count": 139,
   "id": "97bcdc5d",
   "metadata": {},
   "outputs": [
    {
     "name": "stderr",
     "output_type": "stream",
     "text": [
      "100%|██████████| 2000/2000 [00:38<00:00, 52.43it/s]\n"
     ]
    },
    {
     "data": {
      "image/png": "[encoded data removed]",
      "text/plain": [
       "<Figure size 432x288 with 3 Axes>"
      ]
     },
     "metadata": {
      "needs_background": "light"
     },
     "output_type": "display_data"
    }
   ],
   "source": [
    "posterior = get_posterior(\"data/poke_noise_TAU=0.1_MU0.2_1.png\", 1000, 1000, ALPHA = 0.1, \n",
    "                          BETA = 0.1, TAU = 0.1, MU = [0.2, 1],\n",
    "                          deter = True)"
   ]
  },
  {
   "cell_type": "markdown",
   "id": "09c7028c",
   "metadata": {},
   "source": [
    "Avec des biais plus élevés, ca se complique"
   ]
  },
  {
   "cell_type": "code",
   "execution_count": 141,
   "id": "2e8f1a7e",
   "metadata": {},
   "outputs": [
    {
     "name": "stderr",
     "output_type": "stream",
     "text": [
      "100%|██████████| 2000/2000 [00:45<00:00, 44.01it/s]\n"
     ]
    },
    {
     "data": {
      "image/png": "[encoded data removed]",
      "text/plain": [
       "<Figure size 432x288 with 3 Axes>"
      ]
     },
     "metadata": {
      "needs_background": "light"
     },
     "output_type": "display_data"
    }
   ],
   "source": [
    "posterior = get_posterior(\"data/poke_noise_TAU=0.1_MU0.5_1.png\", 1000, 1000, ALPHA = 0.1, \n",
    "                          BETA = 0.1, TAU = 0.1, MU = [0.5, 1],\n",
    "                          deter = True)"
   ]
  }
 ],
 "metadata": {
  "kernelspec": {
   "display_name": "Python 3",
   "language": "python",
   "name": "python3"
  },
  "language_info": {
   "codemirror_mode": {
    "name": "ipython",
    "version": 3
   },
   "file_extension": ".py",
   "mimetype": "text/x-python",
   "name": "python",
   "nbconvert_exporter": "python",
   "pygments_lexer": "ipython3",
   "version": "3.7.4"
  }
 },
 "nbformat": 4,
 "nbformat_minor": 5
}
