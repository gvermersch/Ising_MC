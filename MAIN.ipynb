{
 "cells": [
  {
   "cell_type": "markdown",
   "id": "8694f4e6",
   "metadata": {},
   "source": [
    "# TO DO\n",
    "* Rajouter alpha et beta dans les arguments (pour l'instant ils sont écrits dans le fichier FUN.py)\n",
    "* Enregistrer dans une fonction la création d'une image bruitée"
   ]
  },
  {
   "cell_type": "code",
   "execution_count": 1,
   "id": "4183ed62",
   "metadata": {},
   "outputs": [],
   "source": [
    "import numpy as np\n",
    "import matplotlib.pyplot as plt\n",
    "from PIL import Image, ImageOps\n",
    "from FUN import * # Fichier de fonctions"
   ]
  },
  {
   "cell_type": "code",
   "execution_count": null,
   "id": "12a80b81",
   "metadata": {},
   "outputs": [],
   "source": [
    "og_image = Image.open(\"data/poke.png\")\n",
    "plt.imshow(og_image, cmap = \"gray\")\n",
    "og_image.close()"
   ]
  },
  {
   "cell_type": "markdown",
   "id": "4b64004f",
   "metadata": {},
   "source": [
    "# Création et enregistrement d'une version bruitée d'une image\n",
    "Utilisé une fois pour créer une version noisy, à fonctionnaliser"
   ]
  },
  {
   "cell_type": "code",
   "execution_count": null,
   "id": "9bf9dd5f",
   "metadata": {},
   "outputs": [],
   "source": [
    "img_bin = load_image(\"data/poke.png\")\n",
    "img_bin_noised = noise(img_bin, [0,1], 0.2)\n",
    "plt.imshow(img_bin_noised, cmap = \"gray\")\n",
    "\n",
    "tosave = Image.fromarray(tograyscale(img_bin_noised))\n",
    "tosave.convert(\"L\").save(\"data/poke_noise.png\")"
   ]
  },
  {
   "cell_type": "markdown",
   "id": "42683ec8",
   "metadata": {},
   "source": [
    "# Tentative de débruitage"
   ]
  },
  {
   "cell_type": "code",
   "execution_count": 2,
   "id": "39bac986",
   "metadata": {},
   "outputs": [
    {
     "name": "stderr",
     "output_type": "stream",
     "text": [
      "100%|██████████| 4000/4000 [01:19<00:00, 50.61it/s]\n"
     ]
    }
   ],
   "source": [
    "posterior = get_posterior(\"data/poke_noise.png\", 2000, 2000)"
   ]
  },
  {
   "cell_type": "code",
   "execution_count": 3,
   "id": "12ddc6ba",
   "metadata": {},
   "outputs": [
    {
     "data": {
      "text/plain": [
       "<matplotlib.image.AxesImage at 0x1e806b5fbc8>"
      ]
     },
     "execution_count": 3,
     "metadata": {},
     "output_type": "execute_result"
    },
    {
     "data": {
      "image/png": "[encoded data removed]",
      "text/plain": [
       "<Figure size 432x288 with 1 Axes>"
      ]
     },
     "metadata": {
      "needs_background": "light"
     },
     "output_type": "display_data"
    }
   ],
   "source": [
    "plt.imshow(posterior, cmap = \"gray\")"
   ]
  }
 ],
 "metadata": {
  "kernelspec": {
   "display_name": "Python 3",
   "language": "python",
   "name": "python3"
  },
  "language_info": {
   "codemirror_mode": {
    "name": "ipython",
    "version": 3
   },
   "file_extension": ".py",
   "mimetype": "text/x-python",
   "name": "python",
   "nbconvert_exporter": "python",
   "pygments_lexer": "ipython3",
   "version": "3.7.4"
  }
 },
 "nbformat": 4,
 "nbformat_minor": 5
}
