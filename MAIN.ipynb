{
 "cells": [
  {
   "cell_type": "code",
   "execution_count": 1,
   "id": "4183ed62",
   "metadata": {},
   "outputs": [],
   "source": [
    "import numpy as np\n",
    "import matplotlib.pyplot as plt\n",
    "from PIL import Image, ImageOps\n",
    "from tqdm import tqdm\n",
    "import random"
   ]
  },
  {
   "cell_type": "markdown",
   "id": "24ef51b6",
   "metadata": {},
   "source": [
    "# Fonctions"
   ]
  },
  {
   "cell_type": "markdown",
   "id": "c283663b",
   "metadata": {},
   "source": [
    "## Fonctions liées à l'ajout de gris à une image"
   ]
  },
  {
   "cell_type": "code",
   "execution_count": 2,
   "id": "43791c8d",
   "metadata": {},
   "outputs": [],
   "source": [
    "def tograyscale(mat):\n",
    "    \"\"\"\n",
    "    Scale les nombres de la matrice dans [0,255] (pour permettre les images en nuance de gris)\n",
    "    Mais ne prend pas encore en compte le négatif\n",
    "    \"\"\"\n",
    "    scaled_mat = 255.0 * mat / mat.max()\n",
    "    #scaled_mat[scaled_mat<0] = 0 ?\n",
    "    return scaled_mat"
   ]
  },
  {
   "cell_type": "code",
   "execution_count": 3,
   "id": "bf33e14f",
   "metadata": {},
   "outputs": [],
   "source": [
    "def to_binary(filename):\n",
    "    \"\"\"\n",
    "    Importation de l'image, passage en nuance de gris, puis passage dans {0,1}\n",
    "    \"\"\"\n",
    "    my_img = Image.open(filename)\n",
    "    img_gray = ImageOps.grayscale(my_img) # Conversion en nuances de gris\n",
    "    img_gray = np.array(img_gray)\n",
    "    img_gray_binary = np.where(img_gray > 0.5, 1, 0) #Passage en binaire (méthodologie douteuse)\n",
    "    return img_gray_binary\n"
   ]
  },
  {
   "cell_type": "code",
   "execution_count": 4,
   "id": "43e5b151",
   "metadata": {},
   "outputs": [],
   "source": [
    "def noise(img, TAU, MU):\n",
    "    \"\"\"\n",
    "    Ajout d'un bruit gaussien aux pixels de l'image\n",
    "    \"\"\"\n",
    "    img_noised = np.zeros(shape = img.shape)\n",
    "    row, col = np.shape(img)\n",
    "    for i in range(row):\n",
    "        for j in range(col):\n",
    "            # ATTENTION: scale c'est l'écart type et pas la variance !\n",
    "            img_noised[i,j] = np.random.normal(loc = MU[int(img[i,j])], scale = TAU)\n",
    "    \n",
    "    return img_noised"
   ]
  },
  {
   "cell_type": "code",
   "execution_count": 5,
   "id": "fe434c44",
   "metadata": {},
   "outputs": [],
   "source": [
    "def create_noised_image(img, name, TAU, MU = [0,1]):\n",
    "    \"\"\"\n",
    "    img = chemin vers l'image à bruiter\n",
    "    name = suffixe de l'image bruitée enregistrée\n",
    "    TAU = écart-type pour le bruit gaussien\n",
    "    MU = moyenne pour le bruit gaussien MU[0] = 0, MU[1] = 1 par défaut donc bruit centré\n",
    "    \"\"\"\n",
    "    \n",
    "    \n",
    "    img_bin = to_binary(img)\n",
    "    img_bin_noised = noise(img_bin, TAU, MU)\n",
    "    plt.imshow(img_bin_noised, cmap = \"gray\")\n",
    "    \n",
    "    tosave = Image.fromarray(tograyscale(img_bin_noised))\n",
    "    tosave.convert(\"L\").save(\"data/\"+str(name)+\"_\"+str(TAU)+\".png\")"
   ]
  },
  {
   "cell_type": "markdown",
   "id": "3001d572",
   "metadata": {},
   "source": [
    "## Fonctions liées au gibbs sampling à propos parlé"
   ]
  },
  {
   "cell_type": "code",
   "execution_count": 39,
   "id": "2ba7489a",
   "metadata": {},
   "outputs": [],
   "source": [
    "def sample(i, j, X, Y, maxi, maxj, ALPHA, BETA, TAU, MU):\n",
    "    \"\"\"\n",
    "    Echantillonne dans la distribution conditionnelle pour un pixel\n",
    "    \"\"\"\n",
    "   \n",
    "    # Ajout des valeurs des 4 voisins du pixel considéré, si pertinent\n",
    "    voisins = []\n",
    "    if i != 0:\n",
    "        voisins.append(X[i-1][j])\n",
    "    if i!= maxi-1:\n",
    "        voisins.append(X[i+1][j])\n",
    "    if j!= 0:\n",
    "        voisins.append(X[i][j-1])\n",
    "    if j!= maxj-1:\n",
    "        voisins.append(X[i][j+1])\n",
    "        \n",
    "    # Calcul du nombre de 0 et de 1 dans les voisins\n",
    "    nb_0 = sum(voisins[i] == 0 for i in range(len(voisins)))\n",
    "    nb_1 = sum(voisins[i] == 1 for i in range(len(voisins)))\n",
    "    \n",
    "    # Prise en considération de la variation du nombre de voisins (bords)\n",
    "    pond = 4/len(voisins) \n",
    "    \n",
    "    # Calcul de la probabilité de valoir 1\n",
    "    exp_valeur_1 = -ALPHA + BETA * pond * (nb_0-nb_1) + 1/(2*(TAU**2))*(MU[1]**2 - MU[0]**2 + 2*Y[i][j]*(MU[0]-MU[1]))\n",
    "    \n",
    "    # Calcul de la probabilité de valoir 0 (juste pour vérifier)\n",
    "    #exp_valeur_0 = ALPHA + BETA * pond * (nb_1-nb_0) + 1/(2*(TAU**2))*(MU[0]**2 - MU[1]**2 + 2*Y[i][j]*(MU[1]-MU[0]))\n",
    "    #print(1/(1+np.exp(exp_valeur_1)) + 1/(1+np.exp(exp_valeur_0)))\n",
    "    #print(1/(1+np.exp(exp_valeur_0)))\n",
    "    \n",
    "    prob = 1/(1+np.exp(exp_valeur_1))\n",
    "    \n",
    "    # Renvoie 1 si l'uniforme est inférieure à la proba de valoir 1\n",
    "    U = np.random.rand()\n",
    "    return(int(U < prob)) "
   ]
  },
  {
   "cell_type": "code",
   "execution_count": 28,
   "id": "d5a283f2",
   "metadata": {},
   "outputs": [],
   "source": [
    "def get_posterior(filename, burn_in, samples, ALPHA, BETA, TAU, deter = True, MU = [0.0,1.0]):\n",
    "    \"\"\"\n",
    "    Output les fréquences de valoir 1 pour chaque pixel\n",
    "    Par défaut mu vaut [0,1] donc pas de biais\n",
    "    \n",
    "    Attention, ici l'image qu'on ouvre doit bien être enregistrée en nuances de gris !\n",
    "    \"\"\"\n",
    "    #Y = to_binary(filename) # Chargement de l'image, à changer car l'image n'a ici pas besoin d'être en binaire\n",
    "    im_open = Image.open(filename)\n",
    "    Y = np.array(im_open)\n",
    "    im_open.close()\n",
    "    \n",
    "    # Vérification que l'image est bien en nuances de gris (\"2D\")\n",
    "    if len(Y.shape) != 2: \n",
    "        print(\"Erreur: l'image n'est pas en nuances de gris\")\n",
    "        return False\n",
    "    \n",
    "    print(\"Image bruitée\")\n",
    "    plt.imshow(Y, cmap = \"gray\") # Affichage de l'image bruitée\n",
    "    plt.show()\n",
    "    \n",
    "    # Initialisation\n",
    "    posterior = np.zeros(Y.shape) #Sortie\n",
    "    \n",
    "    X = np.random.choice([1,0], size = Y.shape) # Matrice X\n",
    "    print(\"Prior aléatoire\")\n",
    "    plt.imshow(X, cmap = \"gray\")\n",
    "    plt.show()\n",
    "    \n",
    "    maxi = Y.shape[0]\n",
    "    maxj = Y.shape[1]\n",
    "    pairs = []\n",
    "    \n",
    "    for i in range(maxi):\n",
    "        for j in range(maxj):\n",
    "            pairs.append((i,j))\n",
    "    \n",
    "    \n",
    "    for step in tqdm(range(burn_in + samples)):\n",
    "        \n",
    "        # On parcourt les pixels de manière déterministe (toujours la même)\n",
    "        if deter:\n",
    "            for i in range(maxi):\n",
    "                for j in range(maxj):\n",
    "                    x = sample(i, j, X, Y, maxi, maxj, ALPHA, BETA, TAU, MU)\n",
    "                    X[i,j] = x\n",
    "                    if x == 1 and step >= burn_in:\n",
    "                        posterior[i][j] += 1\n",
    "                        \n",
    "        # On parcourt les pixels de manière aléatoire\n",
    "        else:\n",
    "            random.shuffle(pairs) # On mélange la liste de pairs \n",
    "            for i,j in pairs:\n",
    "                x = sample(i, j, X, Y, maxi, maxj, ALPHA, BETA, TAU, MU)\n",
    "                X[i,j] = x\n",
    "                if x == 1 and step >= burn_in:\n",
    "                    posterior[i][j] += 1.0\n",
    "            \n",
    "            \n",
    "    \n",
    "    # On a ajouté 1 aux pixels à chaque itération réelle où il valait 1\n",
    "    # On fait la moyenne\n",
    "    posterior = posterior / samples\n",
    "    \n",
    "    print(\"Posterior\")\n",
    "    plt.imshow(posterior, cmap = \"gray\")\n",
    "    plt.show()\n",
    "\n",
    "    return posterior"
   ]
  },
  {
   "cell_type": "code",
   "execution_count": 8,
   "id": "6e6ab44b",
   "metadata": {},
   "outputs": [],
   "source": [
    "# Cettefonction sert à ce que le posterior soit binarisé (au lieu de prendre des probas issues du sampling)\n",
    "# Mais est peu utille en l'état\n",
    "\n",
    "def denoise_image(filename, burn_in, samples, ALPHA, BETA, TAU, MU = [0,1]):\n",
    "    \"\"\"\n",
    "    Ici on considère comme 1 valant 1 les pixels où le posterior \n",
    "    vaut 1 à une fréquence supérieure à seuil\n",
    "    mu = [0,1] par défaut donc pas de biais\n",
    "    \"\"\"\n",
    "    \n",
    "    posterior = get_posterior(filename, burn_in, samples, ALPHA, BETA, TAU, MU)\n",
    "    denoised = np.zeros(posterior.shape, dtype=np.float64)\n",
    "    denoised[posterior > 0.5] = 1 # POur  cpasser des probas à des valeurs \n",
    "    \n",
    "    return denoised"
   ]
  },
  {
   "cell_type": "code",
   "execution_count": null,
   "id": "fd834a3a",
   "metadata": {},
   "outputs": [],
   "source": []
  },
  {
   "cell_type": "markdown",
   "id": "23e99033",
   "metadata": {},
   "source": [
    "# Tests"
   ]
  },
  {
   "cell_type": "code",
   "execution_count": null,
   "id": "190a31c6",
   "metadata": {},
   "outputs": [],
   "source": []
  },
  {
   "cell_type": "code",
   "execution_count": null,
   "id": "b3038a91",
   "metadata": {},
   "outputs": [],
   "source": [
    "I = 2\n",
    "J = 2\n",
    "pairs = []\n",
    "\n",
    "for i in range(I):\n",
    "    for j in range(J):\n",
    "        pairs.append((i,j))\n",
    "random.shuffle(pairs)\n",
    "pairs"
   ]
  },
  {
   "cell_type": "markdown",
   "id": "6c1fb4a0",
   "metadata": {},
   "source": [
    "# Exemple d'affichage d'une image"
   ]
  },
  {
   "cell_type": "code",
   "execution_count": null,
   "id": "12a80b81",
   "metadata": {},
   "outputs": [],
   "source": [
    "og_image = Image.open(\"data/poke_noise_01_0point1.png\")\n",
    "plt.imshow(og_image, cmap = \"gray\")\n",
    "og_array = np.array(og_image)\n",
    "print(og_array)\n",
    "og_bis = np.ones(shape = og_array.shape)\n",
    "og_bis[og_array<1] = 0\n",
    "plt.imshow(og_bis, cmap = \"gray\")\n",
    "og_image.close()"
   ]
  },
  {
   "cell_type": "markdown",
   "id": "42683ec8",
   "metadata": {},
   "source": [
    "# Tentative de débruitage"
   ]
  },
  {
   "cell_type": "code",
   "execution_count": null,
   "id": "39bac986",
   "metadata": {},
   "outputs": [],
   "source": [
    "posterior = get_posterior(\"data/poke_noise.png\", 1000, 1000)"
   ]
  },
  {
   "cell_type": "code",
   "execution_count": 40,
   "id": "171a4c7b",
   "metadata": {},
   "outputs": [
    {
     "name": "stdout",
     "output_type": "stream",
     "text": [
      "Image bruitée\n"
     ]
    },
    {
     "data": {
      "image/png": "[encoded data removed]",
      "text/plain": [
       "<Figure size 432x288 with 1 Axes>"
      ]
     },
     "metadata": {
      "needs_background": "light"
     },
     "output_type": "display_data"
    },
    {
     "name": "stdout",
     "output_type": "stream",
     "text": [
      "Prior aléatoire\n"
     ]
    },
    {
     "data": {
      "image/png": "[encoded data removed]",
      "text/plain": [
       "<Figure size 432x288 with 1 Axes>"
      ]
     },
     "metadata": {
      "needs_background": "light"
     },
     "output_type": "display_data"
    },
    {
     "name": "stderr",
     "output_type": "stream",
     "text": [
      "100%|██████████| 10/10 [00:01<00:00,  8.63it/s]\n"
     ]
    },
    {
     "name": "stdout",
     "output_type": "stream",
     "text": [
      "Posterior\n"
     ]
    },
    {
     "data": {
      "image/png": "[encoded data removed]",
      "text/plain": [
       "<Figure size 432x288 with 1 Axes>"
      ]
     },
     "metadata": {
      "needs_background": "light"
     },
     "output_type": "display_data"
    }
   ],
   "source": [
    "posterior = get_posterior(\"data/poke_noise_01_0point1.png\", 0, 10, ALPHA = 1e-5, BETA = 0.2, TAU = 0.1, \n",
    "                          deter = True)"
   ]
  },
  {
   "cell_type": "code",
   "execution_count": 17,
   "id": "fc6587c4",
   "metadata": {},
   "outputs": [
    {
     "data": {
      "text/plain": [
       "array([[1., 1., 1., 1., 1., 1., 1., 1., 1., 1., 1., 1., 1., 1., 1., 1.],\n",
       "       [1., 1., 1., 1., 1., 1., 1., 1., 1., 1., 1., 1., 1., 1., 1., 1.],\n",
       "       [1., 1., 1., 1., 1., 1., 0., 0., 1., 1., 1., 1., 1., 1., 1., 1.],\n",
       "       [1., 1., 1., 1., 0., 0., 1., 1., 1., 1., 1., 1., 1., 1., 1., 1.],\n",
       "       [1., 1., 1., 1., 1., 1., 1., 1., 1., 1., 1., 1., 0., 1., 1., 1.],\n",
       "       [1., 1., 1., 0., 1., 1., 1., 1., 1., 1., 1., 1., 0., 1., 1., 1.],\n",
       "       [1., 1., 0., 1., 1., 1., 1., 0., 1., 1., 1., 1., 1., 0., 1., 1.],\n",
       "       [1., 1., 1., 1., 1., 1., 0., 1., 1., 0., 1., 1., 1., 1., 1., 1.],\n",
       "       [1., 1., 1., 1., 1., 0., 1., 1., 1., 0., 0., 1., 1., 0., 1., 1.],\n",
       "       [1., 1., 0., 1., 1., 1., 1., 0., 1., 1., 1., 1., 1., 0., 1., 1.],\n",
       "       [1., 1., 1., 1., 1., 1., 1., 1., 1., 1., 1., 1., 0., 1., 1., 1.],\n",
       "       [1., 1., 1., 0., 1., 1., 1., 1., 1., 1., 1., 1., 1., 1., 1., 1.],\n",
       "       [1., 1., 1., 1., 1., 0., 1., 1., 1., 1., 0., 1., 1., 1., 1., 1.],\n",
       "       [1., 1., 1., 1., 1., 1., 0., 1., 1., 1., 1., 1., 1., 1., 1., 1.],\n",
       "       [1., 1., 1., 1., 1., 1., 1., 1., 1., 1., 1., 1., 1., 1., 1., 1.],\n",
       "       [1., 1., 1., 1., 1., 1., 1., 1., 1., 1., 1., 1., 1., 1., 1., 1.]])"
      ]
     },
     "execution_count": 17,
     "metadata": {},
     "output_type": "execute_result"
    }
   ],
   "source": [
    "posterior"
   ]
  },
  {
   "cell_type": "markdown",
   "id": "f96ddec8",
   "metadata": {},
   "source": [
    "J'ai pour l'instant l'impression qu'il n'arrive pas à noircir les pixels très légèrement pas noirs, et ce quel que soit le nombre d'itérations."
   ]
  }
 ],
 "metadata": {
  "kernelspec": {
   "display_name": "Python 3",
   "language": "python",
   "name": "python3"
  },
  "language_info": {
   "codemirror_mode": {
    "name": "ipython",
    "version": 3
   },
   "file_extension": ".py",
   "mimetype": "text/x-python",
   "name": "python",
   "nbconvert_exporter": "python",
   "pygments_lexer": "ipython3",
   "version": "3.7.4"
  }
 },
 "nbformat": 4,
 "nbformat_minor": 5
}
