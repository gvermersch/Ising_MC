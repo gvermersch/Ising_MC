{
 "cells": [
  {
   "cell_type": "code",
   "execution_count": 1,
   "id": "4183ed62",
   "metadata": {},
   "outputs": [],
   "source": [
    "import numpy as np\n",
    "import matplotlib.pyplot as plt\n",
    "from PIL import Image, ImageOps\n",
    "from FUN import * # Fichier de fonctions"
   ]
  },
  {
   "cell_type": "code",
   "execution_count": null,
   "id": "12a80b81",
   "metadata": {},
   "outputs": [],
   "source": [
    "og_image = Image.open(\"data/poke.png\")\n",
    "plt.imshow(og_image, cmap = \"gray\")\n",
    "og_image.close()"
   ]
  },
  {
   "cell_type": "code",
   "execution_count": 2,
   "id": "a8d141c6",
   "metadata": {},
   "outputs": [
    {
     "data": {
      "image/png": "[encoded data removed]",
      "text/plain": [
       "<Figure size 432x288 with 1 Axes>"
      ]
     },
     "metadata": {
      "needs_background": "light"
     },
     "output_type": "display_data"
    }
   ],
   "source": [
    "create_noised_image(\"data/poke.png\", \"bis\", TAU = 0)"
   ]
  },
  {
   "cell_type": "markdown",
   "id": "42683ec8",
   "metadata": {},
   "source": [
    "# Tentative de débruitage"
   ]
  },
  {
   "cell_type": "code",
   "execution_count": null,
   "id": "39bac986",
   "metadata": {},
   "outputs": [],
   "source": [
    "posterior = get_posterior(\"data/poke_noise.png\", 1000, 1000)"
   ]
  },
  {
   "cell_type": "code",
   "execution_count": null,
   "id": "42fcb11e",
   "metadata": {},
   "outputs": [],
   "source": [
    "posterior = get_posterior(\"data/poke_noise_01_0point1.png\", 1000, 1000, ALPHA = 0.2, BETA = 0.2, TAU = 0.1)"
   ]
  },
  {
   "cell_type": "code",
   "execution_count": null,
   "id": "12ddc6ba",
   "metadata": {},
   "outputs": [],
   "source": [
    "plt.imshow(posterior, cmap = \"gray\")"
   ]
  }
 ],
 "metadata": {
  "kernelspec": {
   "display_name": "Python 3",
   "language": "python",
   "name": "python3"
  },
  "language_info": {
   "codemirror_mode": {
    "name": "ipython",
    "version": 3
   },
   "file_extension": ".py",
   "mimetype": "text/x-python",
   "name": "python",
   "nbconvert_exporter": "python",
   "pygments_lexer": "ipython3",
   "version": "3.7.4"
  }
 },
 "nbformat": 4,
 "nbformat_minor": 5
}
