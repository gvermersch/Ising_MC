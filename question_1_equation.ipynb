{
 "cells": [
  {
   "cell_type": "markdown",
   "metadata": {},
   "source": [
    "Soit $y_{i}$ le niveau de gris du pixel $i$ et les $x_{i} \\in \\{0,1\\}$, vraie valeur d'un pixel blanc ou noir, suivant une loi d'Ising :  \n",
    "$$ p(x)=\\frac{1}{Z\\left(\\alpha, \\beta \\right)} \\exp \\left{\\alpha \\sum_{i} x_{i}+\\beta \\sum_{i=j} \\mathbb{1}\\left[x_{i}=x_{j}\\right]\\right\\}$$\n",
    "\n",
    "On considère le modèle de la forme : $ y_{i} \\mid x_{i}=k \\sim \\mathcal{N}\\left(\\mu_{k}, \\tau^{2}\\right) $\n",
    "\n",
    "On veut calculer  $\\mathbb{P}(X \\mid Y) = \\frac{\\mathbb{P}(Y \\mid X) \\mathbb{P}(X)}{\\mathbb{P}(Y)} = \\frac{\\mathbb{P}(X \\cap Y)}{\\mathbb{P}(Y)}  $\n",
    "\n",
    "On génère les pixels un par un. Comme les $x_{i}$ ne peuvent prendre que deux valeurs, à savoir 0 ou 1, $X$ suit une loi de Bernouilli dont on cherche à déterminer le paramètre. \n",
    "\n",
    "$ y_{i} \\mid x_{i}=k \\sim \\mathcal{N}\\left(\\mu_{k}, \\tau^{2}\\right) $ donc $\\mathbb{P}(y_{i} \\mid x_{i} = k) = \\frac{1}{\\sqrt{2\\pi \\tau^{2}}} exp \\{\\frac{-1}{2\\tau^{2}} \\left(y_{i} - \\mu_{k}\\right)^{2} \\} $\n",
    "\n",
    "Par la formule des probabilités totales et de Bayes, on a : $\\mathbb{P}(X_{i} =1 \\mid Y_{i}, X_{i}) = \\frac{\\mathbb{P}(X_{i} = 1 \\cap Y_{i}, X_{i})}{\\sum_{x_{i} \\in \\{0,1\\}} \\mathbb{P}(X_{i} = 1 \\cap Y_{i}, X_{i})}$\n",
    "\n",
    "$ \\mathbb{P}(X_{i} =1 \\mid Y_{i}, X_{i}) = \\frac{\\frac{1}{Z\\left(\\alpha, \\beta \\right)} \\frac{1}{\\sqrt{2\\pi \\tau^{2}}} exp\\{ \\alpha \\sum_{i} 1 + \\beta \\mathbb{1} \\{ x_{j} = 1 \\} - \\frac{1}{2 \\tau^{2}} \\left(y_{i} - \\mu_{1} \\right)^{2} \\}  }{\\sum_{x_{i} \\in \\{0,1\\}} \\frac{1}{Z\\left(\\alpha, \\beta \\right)} \\frac{1}{\\sqrt{2\\pi \\tau^{2}}} exp\\{ \\alpha \\sum_{i} x_{i} + \\beta \\mathbb{1} \\{ x_{j} = 1 \\} - \\frac{1}{2 \\tau^{2}} \\left(y_{i} - \\mu_{k}(x_{i}) \\right)^{2} \\} }  $ \n",
    "\n",
    "\n",
    "En divisant en haut et en bas par le numérateur, on obtient : $ \\mathbb{P}(X_{i} =1 \\mid Y_{i}, X_{i}) = \\frac{1}{1 + exp(N)} $ avec \n",
    "\n",
    "$ N =  -\\alpha + \\beta \\sum_{j} [ \\mathbb{1} \\{ x_{j} = 0 \\} - \\mathbb{1}\\{  x_{j} = 1 \\} ] - \\frac{1}{2\\tau^{2}} \\left(y_{i} - \\mu_{0}\\right)^{2} + \\frac{1}{2\\tau^{2}} \\left(y_{i} - \\mu_{1}\\right)^{2} $\n",
    "\n",
    "$ N = \\frac{1}{2\\tau^{2}} \\left[ \\left(y_{i}^2 - 2\\mu_{1} z_{i} + \\mu_{1}^2) - (y_{i}^2 - 2\\mu_{0} z_{i} + \\mu_{0}^2 \\right) \\right] $ \n",
    "\n",
    "$ N = \\frac{1}{2\\tau^{2}} \\left[ \\mu_{1}^{2} - \\mu_{0}^{2} + 2 y_{i} \\left(\\mu_{0} - \\mu_{1}\\right) \\right] $ \n",
    "\n",
    "Finalement, on obtient : \n",
    "\n",
    "$ \\mathbb{P}(X_{i} = 1 \\mid Y_{i}, X_{i}) = \\frac{1}{1 + exp \\{ -\\alpha + \\beta \\sum_{j} [ \\mathbb{1} \\{ x_{j} = 0 \\} - \\mathbb{1}\\{  x_{j} = 1 \\} ] + \\frac{1}{2\\tau^{2}} \\left[ \\mu_{1}^{2} - \\mu_{0}^{2} + 2 y_{i} \\left(\\mu_{0} - \\mu_{1}\\right) \\right] \\} }$\n",
    "\n",
    "De plus, comme $\\mathbb{P}(X_{i} = 0 \\mid Y_{i}, X_{i}) = 1 - \\mathbb{P}(X_{i} = 1 \\mid Y_{i}, X_{i}) $\n",
    "\n",
    "De la même manière, on obtient :  $ \\mathbb{P}(X_{i}=0 \\mid Y_{i}, X_{i}) = \\frac{1}{1 + exp \\{ \\alpha + \\beta \\sum_{j} [ \\mathbb{1} \\{ x_{j} = 0 \\} - \\mathbb{1}\\{  x_{j} = 1 \\} ] + \\frac{1}{2\\tau^{2}} \\left[ 2y_{i} (\\mu_{1} - \\mu_{0}) + (\\mu_{0}^{2} - \\mu_{1})^{2} \\right]  \\} } $ \n",
    "\n"
   ]
  }
 ],
 "metadata": {
  "kernelspec": {
   "display_name": "Python 3",
   "language": "python",
   "name": "python3"
  },
  "language_info": {
   "codemirror_mode": {
    "name": "ipython",
    "version": 3
   },
   "file_extension": ".py",
   "mimetype": "text/x-python",
   "name": "python",
   "nbconvert_exporter": "python",
   "pygments_lexer": "ipython3",
   "version": "3.7.4"
  }
 },
 "nbformat": 4,
 "nbformat_minor": 4
}
