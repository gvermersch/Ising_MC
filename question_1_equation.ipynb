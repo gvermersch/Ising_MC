{
  "metadata": {
    "language_info": {
      "codemirror_mode": {
        "name": "python",
        "version": 3
      },
      "file_extension": ".py",
      "mimetype": "text/x-python",
      "name": "python",
      "nbconvert_exporter": "python",
      "pygments_lexer": "ipython3",
      "version": "3.8"
    },
    "kernelspec": {
      "name": "python",
      "display_name": "Pyolite",
      "language": "python"
    }
  },
  "nbformat_minor": 4,
  "nbformat": 4,
  "cells": [
    {
      "cell_type": "markdown",
      "source": "Soit $y_{i}$ le niveau de gris du pixel $i$ et les $x_{i} \\in \\{0,1\\}$, vraie valeur d'un pixel blanc ou noir, suivant une loi d'Ising :  \n$$ p(x)=\\frac{1}{Z\\left(\\alpha, \\beta \\right)} \\exp \\left[\\alpha \\sum_{i} x_{i}+\\beta \\sum_{i=j} \\mathbb{1}\\left[x_{i}=x_{j}\\right]\\right\\}$$\n\nOn considère le modèle de la forme : $ y_{i} \\mid x_{i}=k \\sim \\mathcal{N}\\left(\\mu_{k}, \\tau^{2}\\right) $\n\nOn veut calculer  $\\mathbb{P}(X \\mid Y) = \\frac{\\mathbb{P}(Y \\mid X) \\mathbb{P}(X)}{\\mathbb{P}(Y)} = \\frac{\\mathbb{P}(X \\cap Y)}{\\mathbb{P}(Y)}  $\n\nOn génère les pixels un par un. Comme les $x_{i}$ ne peuvent prendre que deux valeurs, à savoir 0 ou 1, $X$ suit une loi de Bernouilli dont on cherche à déterminer le paramètre. \n\n$ y_{i} \\mid x_{i}=k \\sim \\mathcal{N}\\left(\\mu_{k}, \\tau^{2}\\right) $ donc $\\mathbb{P}(y_{i} \\mid x_{i} = k) = \\frac{1}{\\sqrt{2\\pi \\tau^{2}}} exp \\{\\frac{-1}{2\\tau^{2}} \\left(y_{i} - \\mu_{k}\\right)^{2} \\} $\n\nPar la formule des probabilités totales et de Bayes, on a : $\\mathbb{P}(X_{i} =1 \\mid Y_{i}, X_{i}) = \\frac{\\mathbb{P}(X_{i} = 1 \\cap Y_{i}, X_{i})}{\\sum_{x_{i} \\in \\{0,1\\}} \\mathbb{P}(X_{i} = 1 \\cap Y_{i}, X_{i})}$\n\n$ \\mathbb{P}(X_{i} =1 \\mid Y_{i}, X_{i}) = \\frac{\\frac{1}{Z\\left(\\alpha, \\beta \\right)} \\frac{1}{\\sqrt{2\\pi \\tau^{2}}} exp\\{ \\alpha \\sum_{i} 1 + \\beta \\mathbb{1} \\{ x_{j} = 1 \\} - \\frac{1}{2 \\tau^{2}} \\left(y_{i} - \\mu_{1} \\right)^{2} \\}  }{\\sum_{x_{i} \\in \\{0,1\\}} \\frac{1}{Z\\left(\\alpha, \\beta \\right)} \\frac{1}{\\sqrt{2\\pi \\tau^{2}}} exp\\{ \\alpha \\sum_{i} x_{i} + \\beta \\mathbb{1} \\{ x_{j} = 1 \\} - \\frac{1}{2 \\tau^{2}} \\left(y_{i} - \\mu_{k}(x_{i}) \\right)^{2} \\} }  $ \n\n\nEn divisant en haut et en bas par le numérateur, on obtient : $ \\mathbb{P}(X_{i} =1 \\mid Y_{i}, X_{i}) = \\frac{1}{1 + exp(N)} $ avec \n\n$ N =  -\\alpha + \\beta \\sum_{j} [ \\mathbb{1} \\{ x_{j} = 0 \\} - \\mathbb{1}\\{  x_{j} = 1 \\} ] - \\frac{1}{2\\tau^{2}} \\left(y_{i} - \\mu_{0}\\right)^{2} + \\frac{1}{2\\tau^{2}} \\left(y_{i} - \\mu_{1}\\right)^{2} $\n\n$ N = \\frac{1}{2\\tau^{2}} \\left[ \\left(y_{i}^2 - 2\\mu_{1} z_{i} + \\mu_{1}^2) - (y_{i}^2 - 2\\mu_{0} z_{i} + \\mu_{0}^2 \\right) \\right] $ \n\n$ N = \\frac{1}{2\\tau^{2}} \\left[ \\mu_{1}^{2} - \\mu_{0}^{2} + 2 y_{i} \\left(\\mu_{0} - \\mu_{1}\\right) \\right] $ \n\nFinalement, on obtient : \n\n$ \\mathbb{P}(X_{i} = 1 \\mid Y_{i}, X_{i}) = \\frac{1}{1 + exp \\{ -\\alpha + \\beta \\sum_{j} [ \\mathbb{1} \\{ x_{j} = 0 \\} - \\mathbb{1}\\{  x_{j} = 1 \\} ] + \\frac{1}{2\\tau^{2}} \\left[ \\mu_{1}^{2} - \\mu_{0}^{2} + 2 y_{i} \\left(\\mu_{0} - \\mu_{1}\\right) \\right] \\} }$\n\nDe plus, comme $\\mathbb{P}(X_{i} = 0 \\mid Y_{i}, X_{i}) = 1 - \\mathbb{P}(X_{i} = 1 \\mid Y_{i}, X_{i}) $\n\nDe la même manière, on obtient :  $ \\mathbb{P}(X_{i}=0 \\mid Y_{i}, X_{i}) = \\frac{1}{1 + exp \\{ \\alpha + \\beta \\sum_{j} [ \\mathbb{1} \\{ x_{j} = 0 \\} - \\mathbb{1}\\{  x_{j} = 1 \\} ] + \\frac{1}{2\\tau^{2}} \\left[ 2y_{i} (\\mu_{1} - \\mu{0}) + \\mu_{0}^{2} - \\mu_{1}^{2}  + 2 y_{i} \\left(\\mu_{0} - \\mu_{1}\\right) \\right] \\} } $ \n\n",
      "metadata": {}
    },
    {
      "cell_type": "markdown",
      "source": "\\begin{aligned}\n&\\operatorname{PP}\\left(y_{i}\\left(x_{i}=h^{\\prime}\\right)=\\frac{1}{\\sqrt{2 \\pi \\tau^{2}}} \\operatorname{rup}\\left\\{\\frac{-1}{2 z}\\left(y_{i}-\\left(h_{i}\\right)^{2}\\right\\}\\right.\\right.\\\\\n&\\mathbb{P}(x, t)=\\ln (x) \\times \\operatorname{mp}(r(x)\\\\\n&=\\frac{1}{z(\\alpha, \\beta)} \\exp \\left(\\alpha \\sum_{i} x_{i}+\\beta \\sum_{i=1} \\mathscr{D}\\left(x_{i}=x_{i}\\right)\\right\\}\\\\\n&x\\left(\\frac{1}{\\sqrt{2 \\pi \\tau^{2}}}\\right)^{2} \\operatorname{erp}\\left\\{-\\frac{1}{2 z} \\sum_{i=1}^{2}\\left(y_{i}-c h(i)\\right)^{2}\\right\\}\\\\\n&\\left.=\\left(\\frac{1}{z(\\alpha, k)}\\right)^{n}\\left(\\frac{1}{\\sqrt{2 \\pi z^{2}}}\\right)^{2} \\exp \\left[\\alpha \\sum_{i} x_{i}+B \\sum_{i=1} A\\left(x_{i}=x_{i}\\right)\\right)-\\frac{1}{2 \\tau} \\sum_{i=2}^{2}\\left(y_{i}-\\psi_{1}(i)\\right)^{2}\\right]\n\\end{aligned}",
      "metadata": {}
    },
    {
      "cell_type": "markdown",
      "source": "\\begin{aligned}\n&\\mathbb{P}\\left(x_{i}=x_{i} \\mid r_{i}, x_{i}{ }^{n}\\right)\\\\\n&\\operatorname{IP}\\left(x_{i}=1 \\mid r_{i}, x_{i}^{n}\\right)\\\\\n&=\\frac{\\operatorname{Pp}\\left(x_{i}=1 \\cap r_{i}, x_{i}{ }^{n}\\right)}{\\sum_{x_{i} \\in\\{0,1\\}} \\operatorname{PP}\\left(x_{i}=x_{i} \\cap r_{i}, x_{i}^{n}\\right)}\\\\\n&\\text { Bouglet puelas lodales }\\\\\n&\\frac{1}{z\\left(\\alpha_{i} / 3\\right)} \\frac{1}{\\sqrt{2 \\pi \\tau^{2}}} \\operatorname{Exp}\\left\\{\\alpha \\sum_{i} \\sum_{i}+\\sum_{i=1}^{n_{i}} \\sum_{i l l} 1 x_{i}=1\\right\\}-\\frac{1}{2 Z}\\left(y_{i}-\\left(_{t}\\right)^{2}\\right\\}\\\\\n&=\\frac{1}{1+E_{\\text {eep }}(N)}\n\\end{aligned}\n",
      "metadata": {}
    }
  ]
}